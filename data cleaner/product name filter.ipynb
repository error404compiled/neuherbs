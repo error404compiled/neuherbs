{
 "cells": [
  {
   "cell_type": "raw",
   "metadata": {},
   "source": [
    "neuherbs Hair Growth and Beauty Combo\n",
    "neuherbs Anti-Aging Combo\n",
    "neuherbs Hair & Skin Complete Beauty Combo\n",
    "neuherbs Strength Builder Combo\n",
    "neuherbs Muscle Builder Combo\n",
    "neuherbs Daily Strength & Immunity Combo\n",
    "neuherbs Weight Watchers Snacking Combo\n",
    "neuherbs Healthy Heart Breakfast Combo\n",
    "Weight & Beauty Nourishment Combo\n",
    "neuherbs Skin Collagen Booster & Hair Biotin Combo\n",
    "neuherbs Complete Wellness Combo\n",
    "neuherbs Daily Essentials Wellness Combo\n",
    "neuherbs Heart Care & Stress Relief Combo\n",
    "neuherbs Tulsi Giloy Tablets (Immunity Booster)\n",
    "Strength Booster (Deep Sea Fish Oil & True Vitamin)\n",
    "neuherbs Deep Sea Fish Oil & Daily Probiotics Combo\n",
    "Stress Buster (Deep Sea Fish Oil & Ashwagandha)\n",
    "\n",
    "\n",
    "\n",
    "\n",
    "\n",
    "neuherbs Plastic Pills Organizer Water Bottle\n",
    "\n",
    "neuherbs Plant-Based Hair Biotin\n",
    "neuherbs Skin Collagen Booster\n",
    "neuherbs Vitamin E Plus\n",
    "neuherbs Hair Skin Vitamins\n",
    "\n",
    "T7 Test-On Ayurveda Muscle Booster For Men\n",
    "neuherbs Ashwagandha 1000 Plus Tablets\n",
    "neuherbs Triple Immune C Tablets (Immunity Booster)\n",
    "neuherbs Milk Thistle (Detox Formula)\n",
    "\n",
    "neuherbs Daily Probiotics With Prebiotic\n",
    "neuherbs True Vitamin (Multivitamin)\n",
    "neuherbs Deep Sea Fish Oil - 2500 MG\n",
    "\n",
    "\n",
    "neuherbs Instant Green Coffee Premix\n",
    "Green Coffee Beans Powder\n",
    "neuherbs Green Coffee Beans for Weight Loss\n",
    "neuherbs Green Coffee Cup 180 ML\n",
    "neuherbs Organic Apple Cider Vinegar with Mother\n",
    "Apple Cider Vinegar With Mother & Honey\n",
    "Certified Organic Apple Cider Vinegar With Mother (Unfiltered)\n",
    "Apple Cider Vinegar (Filtered) - 350ml\n",
    "\n",
    "neuherbs Quinoa Seeds\n",
    "neuherbs Chia Seeds\n",
    "neuherbs Flax Seeds\n",
    "neuherbs Sunflower Seeds\n",
    "neuherbs Pumpkin Seeds\n",
    "neuherbs Organic Flax Seeds (400g), Chia Seeds (200g), & Pumpkin Seeds (200g) Combo for Improved Bone & Heart Health\n",
    "Flax, Chia Seeds, Pumpkin Seeds & Sunflower Seeds\n",
    "neuherbs Flax Seeds & Chia Seeds Combo\n",
    "neuherbs Healthy Seeds Mix\n",
    "Watermelon Seeds & Pumpkin Seeds\n",
    "Sunflowers Seeds & Pumpkin Seeds\n",
    "neuherbs Super Seeds Mix, A Healthy 3-in -1 Mix of Pumpkin, Sunflower & Flax seeds\n",
    "\n",
    "neuherbs Super Food Mix\n",
    "neuherbs Protein Mix\n",
    "neuherbs Watermelon Seeds\n",
    "neuherbs Antioxidant Mix\n",
    "\n",
    "Natural Peanut Butter & Classic Peanut Butter\n",
    "neuherbs Omega Peanut Butter All Natural\n",
    "neuherbs Omega Peanut Butter Dark Chocolate\n",
    "neuherbs Omega Peanut Butter Classic\n",
    "\n",
    "neuherbs Omega Rolled Oats\n",
    "neuherbs Omega Steel-Cut Oats\n",
    "neuherbs Omega Instant Oats\n",
    "neuherbs Omega Muesli\n",
    "neuherbs Omega Rolled Oats\n",
    "neuherbs Instant Oats\n",
    "\n",
    "\n",
    "Ayurvedic Immunity Support\n",
    "neuherbs White Cotton T-shirt\n",
    "neuherbs Stainless Steel Vacuum Coffee Mug 510 ML Black\n",
    "neuherbs Health Consult"
   ]
  },
  {
   "cell_type": "code",
   "execution_count": 2,
   "metadata": {},
   "outputs": [
    {
     "data": {
      "application/javascript": [
       "\n",
       "        if (window._pyforest_update_imports_cell) { window._pyforest_update_imports_cell('import pandas as pd'); }\n",
       "    "
      ],
      "text/plain": [
       "<IPython.core.display.Javascript object>"
      ]
     },
     "metadata": {},
     "output_type": "display_data"
    },
    {
     "name": "stderr",
     "output_type": "stream",
     "text": [
      "C:\\ProgramData\\Anaconda3\\lib\\site-packages\\IPython\\core\\interactiveshell.py:3071: DtypeWarning: Columns (29,46,63) have mixed types.Specify dtype option on import or set low_memory=False.\n",
      "  has_raised = await self.run_ast_nodes(code_ast.body, cell_name,\n"
     ]
    }
   ],
   "source": [
    "df = pd.read_csv(\"new.csv\")"
   ]
  },
  {
   "cell_type": "code",
   "execution_count": 3,
   "metadata": {},
   "outputs": [
    {
     "data": {
      "text/plain": [
       "(26538, 75)"
      ]
     },
     "execution_count": 3,
     "metadata": {},
     "output_type": "execute_result"
    }
   ],
   "source": [
    "df.shape"
   ]
  },
  {
   "cell_type": "code",
   "execution_count": 4,
   "metadata": {},
   "outputs": [
    {
     "data": {
      "text/plain": [
       "Index(['Unnamed: 0', 'Name', 'Email', 'Financial Status', 'Paid at',\n",
       "       'Fulfillment Status', 'Fulfilled at', 'Accepts Marketing', 'Currency',\n",
       "       'Subtotal', 'Shipping', 'Taxes', 'Total', 'Discount Code',\n",
       "       'Discount Amount', 'Shipping Method', 'Created at', 'Lineitem quantity',\n",
       "       'Lineitem name', 'Lineitem price', 'Lineitem compare at price',\n",
       "       'Lineitem sku', 'Lineitem requires shipping', 'Lineitem taxable',\n",
       "       'Lineitem fulfillment status', 'Billing Name', 'Billing Street',\n",
       "       'Billing Address1', 'Billing Address2', 'Billing Company',\n",
       "       'Billing City', 'Billing Zip', 'Billing Province', 'Billing Country',\n",
       "       'Billing Phone', 'Shipping Name', 'Shipping Street',\n",
       "       'Shipping Address1', 'Shipping Address2', 'Shipping Company',\n",
       "       'Shipping City', 'Shipping Zip', 'Shipping Province',\n",
       "       'Shipping Country', 'Shipping Phone', 'Notes', 'Note Attributes',\n",
       "       'Cancelled at', 'Payment Method', 'Payment Reference',\n",
       "       'Refunded Amount', 'Vendor', 'Id', 'Tags', 'Risk Level', 'Source',\n",
       "       'Lineitem discount', 'Tax 1 Name', 'Tax 1 Value', 'Tax 2 Name',\n",
       "       'Tax 2 Value', 'Tax 3 Name', 'Tax 3 Value', 'Tax 4 Name', 'Tax 4 Value',\n",
       "       'Tax 5 Name', 'Tax 5 Value', 'Phone', 'Receipt Number', 'Duties',\n",
       "       'Billing Province Name', 'Shipping Province Name', 'Payment ID',\n",
       "       'Payment Terms Name', 'Next Payment Due At'],\n",
       "      dtype='object')"
      ]
     },
     "execution_count": 4,
     "metadata": {},
     "output_type": "execute_result"
    }
   ],
   "source": [
    "df.columns"
   ]
  },
  {
   "cell_type": "code",
   "execution_count": 9,
   "metadata": {},
   "outputs": [],
   "source": [
    "new = df[\"Lineitem name\"]"
   ]
  },
  {
   "cell_type": "code",
   "execution_count": 11,
   "metadata": {},
   "outputs": [
    {
     "data": {
      "text/plain": [
       "0        neuherbs Deep Sea Fish Oil - 2500 MG - Pack of...\n",
       "1                         neuherbs Complete Wellness Combo\n",
       "2        neuherbs True Vitamin (Multivitamin) - Pack of...\n",
       "3        neuherbs True Vitamin (Multivitamin) - Pack of...\n",
       "4        T7 Test-On Ayurveda Muscle Booster For Men - P...\n",
       "                               ...                        \n",
       "26533                         Neuherbs Quinoa Seeds - 1 KG\n",
       "26534    Organic Apple Cider Vinegar with Mother - Pack...\n",
       "26535    Neuherbs Deep Sea Fish Oil - 2500 MG - Pack of...\n",
       "26536    Neuherbs Deep Sea Fish Oil - 2500 MG - Pack of...\n",
       "26537              Neuherbs Natural Peanut Butter - 400 GM\n",
       "Name: Lineitem name, Length: 26538, dtype: object"
      ]
     },
     "execution_count": 11,
     "metadata": {},
     "output_type": "execute_result"
    }
   ],
   "source": [
    "new"
   ]
  },
  {
   "cell_type": "code",
   "execution_count": 17,
   "metadata": {},
   "outputs": [
    {
     "name": "stdout",
     "output_type": "stream",
     "text": [
      "Neuherbs Flax Seeds - 400 GM\n",
      "Neuherbs Chia Seeds - 1 KG\n",
      "neuherbs Chia Seeds - 1 KG\n",
      "neuherbs Organic Flax Seeds (400g), Chia Seeds (200g), & Pumpkin Seeds (200g) Combo for Improved Bone & Heart Health\n",
      "Neuherbs Quinoa Seeds - 400 GM\n",
      "Neuherbs Sunflower Seeds - 1 KG\n",
      "neuherbs Pumpkin Seeds - 200 GM\n",
      "Sunflowers Seeds & Pumpkin Seeds\n",
      "Neuherbs Watermelon Seeds - 400 GM\n",
      "Neuherbs Pumpkin Seeds - 200 GM\n",
      "neuherbs Flax Seeds & Chia Seeds Combo\n",
      "Neuherbs Super Seeds Mix, A Healthy 3-in -1 Mix of Pumpkin, Sunflower & Flax seeds\n",
      "neuherbs Watermelon Seeds - 400 GM\n",
      "Neuherbs Chia Seeds - 200 GM\n",
      "neuherbs Pumpkin Seeds - 1 KG\n",
      "neuherbs Sunflower Seeds - 200 GM\n",
      "Neuherbs Flax Seeds - 1 KG\n",
      "Neuherbs Sunflower Seeds - 200 GM\n",
      "neuherbs Flax Seeds - 400 GM\n",
      "neuherbs Super Seeds Mix, A Healthy 3-in -1 Mix of Pumpkin, Sunflower & Flax seeds\n",
      "Neuherbs Pumpkin Seeds - 1 KG\n",
      "Neuherbs Quinoa Seeds - 1 KG\n",
      "neuherbs Chia Seeds - 200 GM\n",
      "Neuherbs Organic Flax Seeds (400g) + Chia Seeds (200g) + Pumpkin Seeds (200g) Combo for Improved Bone Health\n",
      "Neuherbs Super Seeds Mix Healthy 3 in 1 Mix of Pumpkin & Sunflower & Flax seeds\n",
      "neuherbs Quinoa Seeds - 1 KG\n",
      "neuherbs Sunflower Seeds - 1 KG\n",
      "Neuherbs Flax Seeds & Chia Seeds Combo\n",
      "neuherbs Healthy Seeds Mix - 200 GM\n",
      "Neuherbs Chia & Flax Seeds Combo\n",
      "Flax, Chia Seeds, Pumpkin Seeds & Sunflower Seeds\n",
      "Neuherbs Healthy Seeds Mix\n",
      "Neuherbs Healthy Seeds Mix - 200 GM\n",
      "Neuherbs Organic Flax Seeds (400g), Chia Seeds (200g), & Pumpkin Seeds (200g) Combo for Improved Bone & Heart Health\n",
      "Watermelon Seeds & Pumpkin Seeds\n",
      "neuherbs Flax Seeds - 1 KG\n",
      "neuherbs Quinoa Seeds - 400 GM\n"
     ]
    }
   ],
   "source": [
    "li = []\n",
    "for i in new:\n",
    "    if \"Seeds\" in i:\n",
    "        li.append(i)\n",
    "for i in set(li):\n",
    "    print(i)"
   ]
  },
  {
   "cell_type": "code",
   "execution_count": 27,
   "metadata": {},
   "outputs": [
    {
     "data": {
      "application/javascript": [
       "\n",
       "        if (window._pyforest_update_imports_cell) { window._pyforest_update_imports_cell('import pandas as pd'); }\n",
       "    "
      ],
      "text/plain": [
       "<IPython.core.display.Javascript object>"
      ]
     },
     "metadata": {},
     "output_type": "display_data"
    }
   ],
   "source": [
    "ndf = pd.DataFrame()"
   ]
  },
  {
   "cell_type": "code",
   "execution_count": 28,
   "metadata": {},
   "outputs": [],
   "source": [
    "ndf[\"org\"] = new"
   ]
  },
  {
   "cell_type": "code",
   "execution_count": 29,
   "metadata": {},
   "outputs": [
    {
     "data": {
      "text/html": [
       "<div>\n",
       "<style scoped>\n",
       "    .dataframe tbody tr th:only-of-type {\n",
       "        vertical-align: middle;\n",
       "    }\n",
       "\n",
       "    .dataframe tbody tr th {\n",
       "        vertical-align: top;\n",
       "    }\n",
       "\n",
       "    .dataframe thead th {\n",
       "        text-align: right;\n",
       "    }\n",
       "</style>\n",
       "<table border=\"1\" class=\"dataframe\">\n",
       "  <thead>\n",
       "    <tr style=\"text-align: right;\">\n",
       "      <th></th>\n",
       "      <th>org</th>\n",
       "    </tr>\n",
       "  </thead>\n",
       "  <tbody>\n",
       "    <tr>\n",
       "      <th>0</th>\n",
       "      <td>neuherbs Deep Sea Fish Oil - 2500 MG - Pack of...</td>\n",
       "    </tr>\n",
       "    <tr>\n",
       "      <th>1</th>\n",
       "      <td>neuherbs Complete Wellness Combo</td>\n",
       "    </tr>\n",
       "    <tr>\n",
       "      <th>2</th>\n",
       "      <td>neuherbs True Vitamin (Multivitamin) - Pack of...</td>\n",
       "    </tr>\n",
       "    <tr>\n",
       "      <th>3</th>\n",
       "      <td>neuherbs True Vitamin (Multivitamin) - Pack of...</td>\n",
       "    </tr>\n",
       "    <tr>\n",
       "      <th>4</th>\n",
       "      <td>T7 Test-On Ayurveda Muscle Booster For Men - P...</td>\n",
       "    </tr>\n",
       "    <tr>\n",
       "      <th>...</th>\n",
       "      <td>...</td>\n",
       "    </tr>\n",
       "    <tr>\n",
       "      <th>26533</th>\n",
       "      <td>Neuherbs Quinoa Seeds - 1 KG</td>\n",
       "    </tr>\n",
       "    <tr>\n",
       "      <th>26534</th>\n",
       "      <td>Organic Apple Cider Vinegar with Mother - Pack...</td>\n",
       "    </tr>\n",
       "    <tr>\n",
       "      <th>26535</th>\n",
       "      <td>Neuherbs Deep Sea Fish Oil - 2500 MG - Pack of...</td>\n",
       "    </tr>\n",
       "    <tr>\n",
       "      <th>26536</th>\n",
       "      <td>Neuherbs Deep Sea Fish Oil - 2500 MG - Pack of...</td>\n",
       "    </tr>\n",
       "    <tr>\n",
       "      <th>26537</th>\n",
       "      <td>Neuherbs Natural Peanut Butter - 400 GM</td>\n",
       "    </tr>\n",
       "  </tbody>\n",
       "</table>\n",
       "<p>26538 rows × 1 columns</p>\n",
       "</div>"
      ],
      "text/plain": [
       "                                                     org\n",
       "0      neuherbs Deep Sea Fish Oil - 2500 MG - Pack of...\n",
       "1                       neuherbs Complete Wellness Combo\n",
       "2      neuherbs True Vitamin (Multivitamin) - Pack of...\n",
       "3      neuherbs True Vitamin (Multivitamin) - Pack of...\n",
       "4      T7 Test-On Ayurveda Muscle Booster For Men - P...\n",
       "...                                                  ...\n",
       "26533                       Neuherbs Quinoa Seeds - 1 KG\n",
       "26534  Organic Apple Cider Vinegar with Mother - Pack...\n",
       "26535  Neuherbs Deep Sea Fish Oil - 2500 MG - Pack of...\n",
       "26536  Neuherbs Deep Sea Fish Oil - 2500 MG - Pack of...\n",
       "26537            Neuherbs Natural Peanut Butter - 400 GM\n",
       "\n",
       "[26538 rows x 1 columns]"
      ]
     },
     "execution_count": 29,
     "metadata": {},
     "output_type": "execute_result"
    }
   ],
   "source": [
    "ndf"
   ]
  },
  {
   "cell_type": "code",
   "execution_count": 39,
   "metadata": {},
   "outputs": [
    {
     "ename": "KeyError",
     "evalue": "'org'",
     "output_type": "error",
     "traceback": [
      "\u001b[1;31m---------------------------------------------------------------------------\u001b[0m",
      "\u001b[1;31mKeyError\u001b[0m                                  Traceback (most recent call last)",
      "\u001b[1;32mC:\\ProgramData\\Anaconda3\\lib\\site-packages\\pandas\\core\\indexes\\base.py\u001b[0m in \u001b[0;36mget_loc\u001b[1;34m(self, key, method, tolerance)\u001b[0m\n\u001b[0;32m   2645\u001b[0m             \u001b[1;32mtry\u001b[0m\u001b[1;33m:\u001b[0m\u001b[1;33m\u001b[0m\u001b[1;33m\u001b[0m\u001b[0m\n\u001b[1;32m-> 2646\u001b[1;33m                 \u001b[1;32mreturn\u001b[0m \u001b[0mself\u001b[0m\u001b[1;33m.\u001b[0m\u001b[0m_engine\u001b[0m\u001b[1;33m.\u001b[0m\u001b[0mget_loc\u001b[0m\u001b[1;33m(\u001b[0m\u001b[0mkey\u001b[0m\u001b[1;33m)\u001b[0m\u001b[1;33m\u001b[0m\u001b[1;33m\u001b[0m\u001b[0m\n\u001b[0m\u001b[0;32m   2647\u001b[0m             \u001b[1;32mexcept\u001b[0m \u001b[0mKeyError\u001b[0m\u001b[1;33m:\u001b[0m\u001b[1;33m\u001b[0m\u001b[1;33m\u001b[0m\u001b[0m\n",
      "\u001b[1;32mpandas\\_libs\\index.pyx\u001b[0m in \u001b[0;36mpandas._libs.index.IndexEngine.get_loc\u001b[1;34m()\u001b[0m\n",
      "\u001b[1;32mpandas\\_libs\\index.pyx\u001b[0m in \u001b[0;36mpandas._libs.index.IndexEngine.get_loc\u001b[1;34m()\u001b[0m\n",
      "\u001b[1;32mpandas\\_libs\\index_class_helper.pxi\u001b[0m in \u001b[0;36mpandas._libs.index.Int64Engine._check_type\u001b[1;34m()\u001b[0m\n",
      "\u001b[1;31mKeyError\u001b[0m: 'org'",
      "\nDuring handling of the above exception, another exception occurred:\n",
      "\u001b[1;31mKeyError\u001b[0m                                  Traceback (most recent call last)",
      "\u001b[1;32m<ipython-input-39-e8525e6d3159>\u001b[0m in \u001b[0;36m<module>\u001b[1;34m\u001b[0m\n\u001b[1;32m----> 1\u001b[1;33m \u001b[0mndf\u001b[0m \u001b[1;33m=\u001b[0m \u001b[0mndf\u001b[0m\u001b[1;33m[\u001b[0m\u001b[1;34m\"org\"\u001b[0m\u001b[1;33m]\u001b[0m\u001b[1;33m.\u001b[0m\u001b[0mstr\u001b[0m\u001b[1;33m.\u001b[0m\u001b[0msplit\u001b[0m\u001b[1;33m(\u001b[0m\u001b[1;34m\"-\"\u001b[0m\u001b[1;33m,\u001b[0m \u001b[0mn\u001b[0m\u001b[1;33m=\u001b[0m\u001b[1;33m-\u001b[0m\u001b[1;36m1\u001b[0m\u001b[1;33m,\u001b[0m \u001b[0mexpand\u001b[0m \u001b[1;33m=\u001b[0m \u001b[1;32mTrue\u001b[0m\u001b[1;33m)\u001b[0m\u001b[1;33m\u001b[0m\u001b[1;33m\u001b[0m\u001b[0m\n\u001b[0m",
      "\u001b[1;32mC:\\ProgramData\\Anaconda3\\lib\\site-packages\\pandas\\core\\frame.py\u001b[0m in \u001b[0;36m__getitem__\u001b[1;34m(self, key)\u001b[0m\n\u001b[0;32m   2798\u001b[0m             \u001b[1;32mif\u001b[0m \u001b[0mself\u001b[0m\u001b[1;33m.\u001b[0m\u001b[0mcolumns\u001b[0m\u001b[1;33m.\u001b[0m\u001b[0mnlevels\u001b[0m \u001b[1;33m>\u001b[0m \u001b[1;36m1\u001b[0m\u001b[1;33m:\u001b[0m\u001b[1;33m\u001b[0m\u001b[1;33m\u001b[0m\u001b[0m\n\u001b[0;32m   2799\u001b[0m                 \u001b[1;32mreturn\u001b[0m \u001b[0mself\u001b[0m\u001b[1;33m.\u001b[0m\u001b[0m_getitem_multilevel\u001b[0m\u001b[1;33m(\u001b[0m\u001b[0mkey\u001b[0m\u001b[1;33m)\u001b[0m\u001b[1;33m\u001b[0m\u001b[1;33m\u001b[0m\u001b[0m\n\u001b[1;32m-> 2800\u001b[1;33m             \u001b[0mindexer\u001b[0m \u001b[1;33m=\u001b[0m \u001b[0mself\u001b[0m\u001b[1;33m.\u001b[0m\u001b[0mcolumns\u001b[0m\u001b[1;33m.\u001b[0m\u001b[0mget_loc\u001b[0m\u001b[1;33m(\u001b[0m\u001b[0mkey\u001b[0m\u001b[1;33m)\u001b[0m\u001b[1;33m\u001b[0m\u001b[1;33m\u001b[0m\u001b[0m\n\u001b[0m\u001b[0;32m   2801\u001b[0m             \u001b[1;32mif\u001b[0m \u001b[0mis_integer\u001b[0m\u001b[1;33m(\u001b[0m\u001b[0mindexer\u001b[0m\u001b[1;33m)\u001b[0m\u001b[1;33m:\u001b[0m\u001b[1;33m\u001b[0m\u001b[1;33m\u001b[0m\u001b[0m\n\u001b[0;32m   2802\u001b[0m                 \u001b[0mindexer\u001b[0m \u001b[1;33m=\u001b[0m \u001b[1;33m[\u001b[0m\u001b[0mindexer\u001b[0m\u001b[1;33m]\u001b[0m\u001b[1;33m\u001b[0m\u001b[1;33m\u001b[0m\u001b[0m\n",
      "\u001b[1;32mC:\\ProgramData\\Anaconda3\\lib\\site-packages\\pandas\\core\\indexes\\base.py\u001b[0m in \u001b[0;36mget_loc\u001b[1;34m(self, key, method, tolerance)\u001b[0m\n\u001b[0;32m   2646\u001b[0m                 \u001b[1;32mreturn\u001b[0m \u001b[0mself\u001b[0m\u001b[1;33m.\u001b[0m\u001b[0m_engine\u001b[0m\u001b[1;33m.\u001b[0m\u001b[0mget_loc\u001b[0m\u001b[1;33m(\u001b[0m\u001b[0mkey\u001b[0m\u001b[1;33m)\u001b[0m\u001b[1;33m\u001b[0m\u001b[1;33m\u001b[0m\u001b[0m\n\u001b[0;32m   2647\u001b[0m             \u001b[1;32mexcept\u001b[0m \u001b[0mKeyError\u001b[0m\u001b[1;33m:\u001b[0m\u001b[1;33m\u001b[0m\u001b[1;33m\u001b[0m\u001b[0m\n\u001b[1;32m-> 2648\u001b[1;33m                 \u001b[1;32mreturn\u001b[0m \u001b[0mself\u001b[0m\u001b[1;33m.\u001b[0m\u001b[0m_engine\u001b[0m\u001b[1;33m.\u001b[0m\u001b[0mget_loc\u001b[0m\u001b[1;33m(\u001b[0m\u001b[0mself\u001b[0m\u001b[1;33m.\u001b[0m\u001b[0m_maybe_cast_indexer\u001b[0m\u001b[1;33m(\u001b[0m\u001b[0mkey\u001b[0m\u001b[1;33m)\u001b[0m\u001b[1;33m)\u001b[0m\u001b[1;33m\u001b[0m\u001b[1;33m\u001b[0m\u001b[0m\n\u001b[0m\u001b[0;32m   2649\u001b[0m         \u001b[0mindexer\u001b[0m \u001b[1;33m=\u001b[0m \u001b[0mself\u001b[0m\u001b[1;33m.\u001b[0m\u001b[0mget_indexer\u001b[0m\u001b[1;33m(\u001b[0m\u001b[1;33m[\u001b[0m\u001b[0mkey\u001b[0m\u001b[1;33m]\u001b[0m\u001b[1;33m,\u001b[0m \u001b[0mmethod\u001b[0m\u001b[1;33m=\u001b[0m\u001b[0mmethod\u001b[0m\u001b[1;33m,\u001b[0m \u001b[0mtolerance\u001b[0m\u001b[1;33m=\u001b[0m\u001b[0mtolerance\u001b[0m\u001b[1;33m)\u001b[0m\u001b[1;33m\u001b[0m\u001b[1;33m\u001b[0m\u001b[0m\n\u001b[0;32m   2650\u001b[0m         \u001b[1;32mif\u001b[0m \u001b[0mindexer\u001b[0m\u001b[1;33m.\u001b[0m\u001b[0mndim\u001b[0m \u001b[1;33m>\u001b[0m \u001b[1;36m1\u001b[0m \u001b[1;32mor\u001b[0m \u001b[0mindexer\u001b[0m\u001b[1;33m.\u001b[0m\u001b[0msize\u001b[0m \u001b[1;33m>\u001b[0m \u001b[1;36m1\u001b[0m\u001b[1;33m:\u001b[0m\u001b[1;33m\u001b[0m\u001b[1;33m\u001b[0m\u001b[0m\n",
      "\u001b[1;32mpandas\\_libs\\index.pyx\u001b[0m in \u001b[0;36mpandas._libs.index.IndexEngine.get_loc\u001b[1;34m()\u001b[0m\n",
      "\u001b[1;32mpandas\\_libs\\index.pyx\u001b[0m in \u001b[0;36mpandas._libs.index.IndexEngine.get_loc\u001b[1;34m()\u001b[0m\n",
      "\u001b[1;32mpandas\\_libs\\index_class_helper.pxi\u001b[0m in \u001b[0;36mpandas._libs.index.Int64Engine._check_type\u001b[1;34m()\u001b[0m\n",
      "\u001b[1;31mKeyError\u001b[0m: 'org'"
     ]
    }
   ],
   "source": [
    "ndf = ndf[\"org\"].str.split(\"-\", n=-1, expand = True)"
   ]
  },
  {
   "cell_type": "code",
   "execution_count": 40,
   "metadata": {},
   "outputs": [
    {
     "data": {
      "text/html": [
       "<div>\n",
       "<style scoped>\n",
       "    .dataframe tbody tr th:only-of-type {\n",
       "        vertical-align: middle;\n",
       "    }\n",
       "\n",
       "    .dataframe tbody tr th {\n",
       "        vertical-align: top;\n",
       "    }\n",
       "\n",
       "    .dataframe thead th {\n",
       "        text-align: right;\n",
       "    }\n",
       "</style>\n",
       "<table border=\"1\" class=\"dataframe\">\n",
       "  <thead>\n",
       "    <tr style=\"text-align: right;\">\n",
       "      <th></th>\n",
       "      <th>0</th>\n",
       "      <th>1</th>\n",
       "      <th>2</th>\n",
       "    </tr>\n",
       "  </thead>\n",
       "  <tbody>\n",
       "    <tr>\n",
       "      <th>0</th>\n",
       "      <td>neuherbs Deep Sea Fish Oil</td>\n",
       "      <td>2500 MG</td>\n",
       "      <td>Pack of 1 (60 Softgel)</td>\n",
       "    </tr>\n",
       "    <tr>\n",
       "      <th>1</th>\n",
       "      <td>neuherbs Complete Wellness Combo</td>\n",
       "      <td>None</td>\n",
       "      <td>None</td>\n",
       "    </tr>\n",
       "    <tr>\n",
       "      <th>2</th>\n",
       "      <td>neuherbs True Vitamin (Multivitamin)</td>\n",
       "      <td>Pack of 1 (60 Tablets)</td>\n",
       "      <td>None</td>\n",
       "    </tr>\n",
       "    <tr>\n",
       "      <th>3</th>\n",
       "      <td>neuherbs True Vitamin (Multivitamin)</td>\n",
       "      <td>Pack of 1 (60 Tablets)</td>\n",
       "      <td>None</td>\n",
       "    </tr>\n",
       "    <tr>\n",
       "      <th>4</th>\n",
       "      <td>T7 Test</td>\n",
       "      <td>On Ayurveda Muscle Booster For Men</td>\n",
       "      <td>Pack of 1 (60 Capsules)</td>\n",
       "    </tr>\n",
       "    <tr>\n",
       "      <th>...</th>\n",
       "      <td>...</td>\n",
       "      <td>...</td>\n",
       "      <td>...</td>\n",
       "    </tr>\n",
       "    <tr>\n",
       "      <th>26533</th>\n",
       "      <td>Neuherbs Quinoa Seeds</td>\n",
       "      <td>1 KG</td>\n",
       "      <td>None</td>\n",
       "    </tr>\n",
       "    <tr>\n",
       "      <th>26534</th>\n",
       "      <td>Organic Apple Cider Vinegar with Mother</td>\n",
       "      <td>Pack of 1 (500 ML)</td>\n",
       "      <td>None</td>\n",
       "    </tr>\n",
       "    <tr>\n",
       "      <th>26535</th>\n",
       "      <td>Neuherbs Deep Sea Fish Oil</td>\n",
       "      <td>2500 MG</td>\n",
       "      <td>Pack of 1 (60 Softgel)</td>\n",
       "    </tr>\n",
       "    <tr>\n",
       "      <th>26536</th>\n",
       "      <td>Neuherbs Deep Sea Fish Oil</td>\n",
       "      <td>2500 MG</td>\n",
       "      <td>Pack of 1 (60 Softgel)</td>\n",
       "    </tr>\n",
       "    <tr>\n",
       "      <th>26537</th>\n",
       "      <td>Neuherbs Natural Peanut Butter</td>\n",
       "      <td>400 GM</td>\n",
       "      <td>None</td>\n",
       "    </tr>\n",
       "  </tbody>\n",
       "</table>\n",
       "<p>26538 rows × 3 columns</p>\n",
       "</div>"
      ],
      "text/plain": [
       "                                              0  \\\n",
       "0                   neuherbs Deep Sea Fish Oil    \n",
       "1              neuherbs Complete Wellness Combo   \n",
       "2         neuherbs True Vitamin (Multivitamin)    \n",
       "3         neuherbs True Vitamin (Multivitamin)    \n",
       "4                                       T7 Test   \n",
       "...                                         ...   \n",
       "26533                    Neuherbs Quinoa Seeds    \n",
       "26534  Organic Apple Cider Vinegar with Mother    \n",
       "26535               Neuherbs Deep Sea Fish Oil    \n",
       "26536               Neuherbs Deep Sea Fish Oil    \n",
       "26537           Neuherbs Natural Peanut Butter    \n",
       "\n",
       "                                         1                         2  \n",
       "0                                 2500 MG     Pack of 1 (60 Softgel)  \n",
       "1                                     None                      None  \n",
       "2                   Pack of 1 (60 Tablets)                      None  \n",
       "3                   Pack of 1 (60 Tablets)                      None  \n",
       "4      On Ayurveda Muscle Booster For Men    Pack of 1 (60 Capsules)  \n",
       "...                                    ...                       ...  \n",
       "26533                                 1 KG                      None  \n",
       "26534                   Pack of 1 (500 ML)                      None  \n",
       "26535                             2500 MG     Pack of 1 (60 Softgel)  \n",
       "26536                             2500 MG     Pack of 1 (60 Softgel)  \n",
       "26537                               400 GM                      None  \n",
       "\n",
       "[26538 rows x 3 columns]"
      ]
     },
     "execution_count": 40,
     "metadata": {},
     "output_type": "execute_result"
    }
   ],
   "source": [
    "ndf"
   ]
  },
  {
   "cell_type": "code",
   "execution_count": 43,
   "metadata": {},
   "outputs": [
    {
     "data": {
      "text/html": [
       "<div>\n",
       "<style scoped>\n",
       "    .dataframe tbody tr th:only-of-type {\n",
       "        vertical-align: middle;\n",
       "    }\n",
       "\n",
       "    .dataframe tbody tr th {\n",
       "        vertical-align: top;\n",
       "    }\n",
       "\n",
       "    .dataframe thead th {\n",
       "        text-align: right;\n",
       "    }\n",
       "</style>\n",
       "<table border=\"1\" class=\"dataframe\">\n",
       "  <thead>\n",
       "    <tr style=\"text-align: right;\">\n",
       "      <th></th>\n",
       "      <th>Name</th>\n",
       "      <th>q1</th>\n",
       "      <th>q2</th>\n",
       "    </tr>\n",
       "  </thead>\n",
       "  <tbody>\n",
       "    <tr>\n",
       "      <th>0</th>\n",
       "      <td>neuherbs Deep Sea Fish Oil</td>\n",
       "      <td>2500 MG</td>\n",
       "      <td>Pack of 1 (60 Softgel)</td>\n",
       "    </tr>\n",
       "    <tr>\n",
       "      <th>1</th>\n",
       "      <td>neuherbs Complete Wellness Combo</td>\n",
       "      <td>None</td>\n",
       "      <td>None</td>\n",
       "    </tr>\n",
       "    <tr>\n",
       "      <th>2</th>\n",
       "      <td>neuherbs True Vitamin (Multivitamin)</td>\n",
       "      <td>Pack of 1 (60 Tablets)</td>\n",
       "      <td>None</td>\n",
       "    </tr>\n",
       "    <tr>\n",
       "      <th>3</th>\n",
       "      <td>neuherbs True Vitamin (Multivitamin)</td>\n",
       "      <td>Pack of 1 (60 Tablets)</td>\n",
       "      <td>None</td>\n",
       "    </tr>\n",
       "    <tr>\n",
       "      <th>4</th>\n",
       "      <td>T7 Test</td>\n",
       "      <td>On Ayurveda Muscle Booster For Men</td>\n",
       "      <td>Pack of 1 (60 Capsules)</td>\n",
       "    </tr>\n",
       "    <tr>\n",
       "      <th>...</th>\n",
       "      <td>...</td>\n",
       "      <td>...</td>\n",
       "      <td>...</td>\n",
       "    </tr>\n",
       "    <tr>\n",
       "      <th>26533</th>\n",
       "      <td>Neuherbs Quinoa Seeds</td>\n",
       "      <td>1 KG</td>\n",
       "      <td>None</td>\n",
       "    </tr>\n",
       "    <tr>\n",
       "      <th>26534</th>\n",
       "      <td>Organic Apple Cider Vinegar with Mother</td>\n",
       "      <td>Pack of 1 (500 ML)</td>\n",
       "      <td>None</td>\n",
       "    </tr>\n",
       "    <tr>\n",
       "      <th>26535</th>\n",
       "      <td>Neuherbs Deep Sea Fish Oil</td>\n",
       "      <td>2500 MG</td>\n",
       "      <td>Pack of 1 (60 Softgel)</td>\n",
       "    </tr>\n",
       "    <tr>\n",
       "      <th>26536</th>\n",
       "      <td>Neuherbs Deep Sea Fish Oil</td>\n",
       "      <td>2500 MG</td>\n",
       "      <td>Pack of 1 (60 Softgel)</td>\n",
       "    </tr>\n",
       "    <tr>\n",
       "      <th>26537</th>\n",
       "      <td>Neuherbs Natural Peanut Butter</td>\n",
       "      <td>400 GM</td>\n",
       "      <td>None</td>\n",
       "    </tr>\n",
       "  </tbody>\n",
       "</table>\n",
       "<p>26538 rows × 3 columns</p>\n",
       "</div>"
      ],
      "text/plain": [
       "                                           Name  \\\n",
       "0                   neuherbs Deep Sea Fish Oil    \n",
       "1              neuherbs Complete Wellness Combo   \n",
       "2         neuherbs True Vitamin (Multivitamin)    \n",
       "3         neuherbs True Vitamin (Multivitamin)    \n",
       "4                                       T7 Test   \n",
       "...                                         ...   \n",
       "26533                    Neuherbs Quinoa Seeds    \n",
       "26534  Organic Apple Cider Vinegar with Mother    \n",
       "26535               Neuherbs Deep Sea Fish Oil    \n",
       "26536               Neuherbs Deep Sea Fish Oil    \n",
       "26537           Neuherbs Natural Peanut Butter    \n",
       "\n",
       "                                        q1                        q2  \n",
       "0                                 2500 MG     Pack of 1 (60 Softgel)  \n",
       "1                                     None                      None  \n",
       "2                   Pack of 1 (60 Tablets)                      None  \n",
       "3                   Pack of 1 (60 Tablets)                      None  \n",
       "4      On Ayurveda Muscle Booster For Men    Pack of 1 (60 Capsules)  \n",
       "...                                    ...                       ...  \n",
       "26533                                 1 KG                      None  \n",
       "26534                   Pack of 1 (500 ML)                      None  \n",
       "26535                             2500 MG     Pack of 1 (60 Softgel)  \n",
       "26536                             2500 MG     Pack of 1 (60 Softgel)  \n",
       "26537                               400 GM                      None  \n",
       "\n",
       "[26538 rows x 3 columns]"
      ]
     },
     "execution_count": 43,
     "metadata": {},
     "output_type": "execute_result"
    }
   ],
   "source": [
    "# ndf.rename(columns = {\"0\": \"Name\", \"1\":\"q1\", \"2\":\"q2\"}, inplace = True)\n",
    "# ndf\n",
    "ndf.columns = [\"Name\", \"q1\", \"q2\"]\n",
    "ndf"
   ]
  },
  {
   "cell_type": "code",
   "execution_count": null,
   "metadata": {},
   "outputs": [],
   "source": []
  }
 ],
 "metadata": {
  "kernelspec": {
   "display_name": "Python 3",
   "language": "python",
   "name": "python3"
  },
  "language_info": {
   "codemirror_mode": {
    "name": "ipython",
    "version": 3
   },
   "file_extension": ".py",
   "mimetype": "text/x-python",
   "name": "python",
   "nbconvert_exporter": "python",
   "pygments_lexer": "ipython3",
   "version": "3.8.3"
  }
 },
 "nbformat": 4,
 "nbformat_minor": 4
}

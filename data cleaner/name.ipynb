{
 "cells": [
  {
   "cell_type": "code",
   "execution_count": 93,
   "metadata": {},
   "outputs": [],
   "source": [
    "import numpy as np\n",
    "import pandas as pd"
   ]
  },
  {
   "cell_type": "code",
   "execution_count": 94,
   "metadata": {},
   "outputs": [
    {
     "name": "stderr",
     "output_type": "stream",
     "text": [
      "C:\\ProgramData\\Anaconda3\\lib\\site-packages\\IPython\\core\\interactiveshell.py:3071: DtypeWarning: Columns (29,46,63) have mixed types.Specify dtype option on import or set low_memory=False.\n",
      "  has_raised = await self.run_ast_nodes(code_ast.body, cell_name,\n"
     ]
    }
   ],
   "source": [
    "df = pd.read_csv(\"new.csv\")"
   ]
  },
  {
   "cell_type": "code",
   "execution_count": 95,
   "metadata": {},
   "outputs": [
    {
     "data": {
      "text/html": [
       "<div>\n",
       "<style scoped>\n",
       "    .dataframe tbody tr th:only-of-type {\n",
       "        vertical-align: middle;\n",
       "    }\n",
       "\n",
       "    .dataframe tbody tr th {\n",
       "        vertical-align: top;\n",
       "    }\n",
       "\n",
       "    .dataframe thead th {\n",
       "        text-align: right;\n",
       "    }\n",
       "</style>\n",
       "<table border=\"1\" class=\"dataframe\">\n",
       "  <thead>\n",
       "    <tr style=\"text-align: right;\">\n",
       "      <th></th>\n",
       "      <th>Unnamed: 0</th>\n",
       "      <th>Name</th>\n",
       "      <th>Email</th>\n",
       "      <th>Financial Status</th>\n",
       "      <th>Paid at</th>\n",
       "      <th>Fulfillment Status</th>\n",
       "      <th>Fulfilled at</th>\n",
       "      <th>Accepts Marketing</th>\n",
       "      <th>Currency</th>\n",
       "      <th>Subtotal</th>\n",
       "      <th>...</th>\n",
       "      <th>Tax 5 Name</th>\n",
       "      <th>Tax 5 Value</th>\n",
       "      <th>Phone</th>\n",
       "      <th>Receipt Number</th>\n",
       "      <th>Duties</th>\n",
       "      <th>Billing Province Name</th>\n",
       "      <th>Shipping Province Name</th>\n",
       "      <th>Payment ID</th>\n",
       "      <th>Payment Terms Name</th>\n",
       "      <th>Next Payment Due At</th>\n",
       "    </tr>\n",
       "  </thead>\n",
       "  <tbody>\n",
       "    <tr>\n",
       "      <th>0</th>\n",
       "      <td>0</td>\n",
       "      <td>#29914</td>\n",
       "      <td>pankajgavri@gmail.com</td>\n",
       "      <td>paid</td>\n",
       "      <td>2022-04-28 23:57:34 +0530</td>\n",
       "      <td>fulfilled</td>\n",
       "      <td>2022-04-29 11:31:50 +0530</td>\n",
       "      <td>no</td>\n",
       "      <td>INR</td>\n",
       "      <td>719.10</td>\n",
       "      <td>...</td>\n",
       "      <td>NaN</td>\n",
       "      <td>NaN</td>\n",
       "      <td>NaN</td>\n",
       "      <td>NaN</td>\n",
       "      <td>NaN</td>\n",
       "      <td>Haryana</td>\n",
       "      <td>Haryana</td>\n",
       "      <td>NaN</td>\n",
       "      <td>NaN</td>\n",
       "      <td>NaN</td>\n",
       "    </tr>\n",
       "    <tr>\n",
       "      <th>1</th>\n",
       "      <td>1</td>\n",
       "      <td>#29913</td>\n",
       "      <td>aishpawar9428@gmail.com</td>\n",
       "      <td>pending</td>\n",
       "      <td>NaN</td>\n",
       "      <td>fulfilled</td>\n",
       "      <td>2022-04-29 11:27:54 +0530</td>\n",
       "      <td>yes</td>\n",
       "      <td>INR</td>\n",
       "      <td>1399.00</td>\n",
       "      <td>...</td>\n",
       "      <td>NaN</td>\n",
       "      <td>NaN</td>\n",
       "      <td>NaN</td>\n",
       "      <td>NaN</td>\n",
       "      <td>NaN</td>\n",
       "      <td>Maharashtra</td>\n",
       "      <td>Maharashtra</td>\n",
       "      <td>NaN</td>\n",
       "      <td>NaN</td>\n",
       "      <td>NaN</td>\n",
       "    </tr>\n",
       "    <tr>\n",
       "      <th>2</th>\n",
       "      <td>2</td>\n",
       "      <td>#29912</td>\n",
       "      <td>zuberali983@gmail.com</td>\n",
       "      <td>paid</td>\n",
       "      <td>2022-04-28 23:25:11 +0530</td>\n",
       "      <td>fulfilled</td>\n",
       "      <td>2022-04-29 11:31:50 +0530</td>\n",
       "      <td>yes</td>\n",
       "      <td>INR</td>\n",
       "      <td>629.10</td>\n",
       "      <td>...</td>\n",
       "      <td>NaN</td>\n",
       "      <td>NaN</td>\n",
       "      <td>NaN</td>\n",
       "      <td>NaN</td>\n",
       "      <td>NaN</td>\n",
       "      <td>Madhya Pradesh</td>\n",
       "      <td>Madhya Pradesh</td>\n",
       "      <td>NaN</td>\n",
       "      <td>NaN</td>\n",
       "      <td>NaN</td>\n",
       "    </tr>\n",
       "    <tr>\n",
       "      <th>3</th>\n",
       "      <td>3</td>\n",
       "      <td>#29911</td>\n",
       "      <td>zuberali983@gmail.com</td>\n",
       "      <td>pending</td>\n",
       "      <td>NaN</td>\n",
       "      <td>fulfilled</td>\n",
       "      <td>2022-04-29 11:31:50 +0530</td>\n",
       "      <td>yes</td>\n",
       "      <td>INR</td>\n",
       "      <td>664.05</td>\n",
       "      <td>...</td>\n",
       "      <td>NaN</td>\n",
       "      <td>NaN</td>\n",
       "      <td>NaN</td>\n",
       "      <td>NaN</td>\n",
       "      <td>NaN</td>\n",
       "      <td>Madhya Pradesh</td>\n",
       "      <td>Madhya Pradesh</td>\n",
       "      <td>NaN</td>\n",
       "      <td>NaN</td>\n",
       "      <td>NaN</td>\n",
       "    </tr>\n",
       "    <tr>\n",
       "      <th>4</th>\n",
       "      <td>4</td>\n",
       "      <td>#29910</td>\n",
       "      <td>dr.ajaychauhan@yahoo.in</td>\n",
       "      <td>pending</td>\n",
       "      <td>NaN</td>\n",
       "      <td>fulfilled</td>\n",
       "      <td>2022-04-29 11:31:50 +0530</td>\n",
       "      <td>yes</td>\n",
       "      <td>INR</td>\n",
       "      <td>599.00</td>\n",
       "      <td>...</td>\n",
       "      <td>NaN</td>\n",
       "      <td>NaN</td>\n",
       "      <td>NaN</td>\n",
       "      <td>NaN</td>\n",
       "      <td>NaN</td>\n",
       "      <td>Gujarat</td>\n",
       "      <td>Gujarat</td>\n",
       "      <td>NaN</td>\n",
       "      <td>NaN</td>\n",
       "      <td>NaN</td>\n",
       "    </tr>\n",
       "    <tr>\n",
       "      <th>...</th>\n",
       "      <td>...</td>\n",
       "      <td>...</td>\n",
       "      <td>...</td>\n",
       "      <td>...</td>\n",
       "      <td>...</td>\n",
       "      <td>...</td>\n",
       "      <td>...</td>\n",
       "      <td>...</td>\n",
       "      <td>...</td>\n",
       "      <td>...</td>\n",
       "      <td>...</td>\n",
       "      <td>...</td>\n",
       "      <td>...</td>\n",
       "      <td>...</td>\n",
       "      <td>...</td>\n",
       "      <td>...</td>\n",
       "      <td>...</td>\n",
       "      <td>...</td>\n",
       "      <td>...</td>\n",
       "      <td>...</td>\n",
       "      <td>...</td>\n",
       "    </tr>\n",
       "    <tr>\n",
       "      <th>26533</th>\n",
       "      <td>9192</td>\n",
       "      <td>#6060</td>\n",
       "      <td>tiainla.tiainla@gmail.com</td>\n",
       "      <td>pending</td>\n",
       "      <td>NaN</td>\n",
       "      <td>fulfilled</td>\n",
       "      <td>2021-11-01 10:18:11 +0530</td>\n",
       "      <td>yes</td>\n",
       "      <td>INR</td>\n",
       "      <td>598.00</td>\n",
       "      <td>...</td>\n",
       "      <td>NaN</td>\n",
       "      <td>NaN</td>\n",
       "      <td>NaN</td>\n",
       "      <td>NaN</td>\n",
       "      <td>NaN</td>\n",
       "      <td>Assam</td>\n",
       "      <td>Assam</td>\n",
       "      <td>NaN</td>\n",
       "      <td>NaN</td>\n",
       "      <td>NaN</td>\n",
       "    </tr>\n",
       "    <tr>\n",
       "      <th>26534</th>\n",
       "      <td>9193</td>\n",
       "      <td>#6059</td>\n",
       "      <td>anmolkiran1512@gmail.com</td>\n",
       "      <td>pending</td>\n",
       "      <td>NaN</td>\n",
       "      <td>unfulfilled</td>\n",
       "      <td>NaN</td>\n",
       "      <td>yes</td>\n",
       "      <td>INR</td>\n",
       "      <td>404.00</td>\n",
       "      <td>...</td>\n",
       "      <td>NaN</td>\n",
       "      <td>NaN</td>\n",
       "      <td>NaN</td>\n",
       "      <td>NaN</td>\n",
       "      <td>NaN</td>\n",
       "      <td>Rajasthan</td>\n",
       "      <td>Rajasthan</td>\n",
       "      <td>NaN</td>\n",
       "      <td>NaN</td>\n",
       "      <td>NaN</td>\n",
       "    </tr>\n",
       "    <tr>\n",
       "      <th>26535</th>\n",
       "      <td>9194</td>\n",
       "      <td>#6058</td>\n",
       "      <td>jabstome@gmail.com</td>\n",
       "      <td>paid</td>\n",
       "      <td>2021-11-01 02:00:23 +0530</td>\n",
       "      <td>fulfilled</td>\n",
       "      <td>2021-11-01 10:17:11 +0530</td>\n",
       "      <td>no</td>\n",
       "      <td>INR</td>\n",
       "      <td>644.00</td>\n",
       "      <td>...</td>\n",
       "      <td>NaN</td>\n",
       "      <td>NaN</td>\n",
       "      <td>NaN</td>\n",
       "      <td>NaN</td>\n",
       "      <td>NaN</td>\n",
       "      <td>Maharashtra</td>\n",
       "      <td>Maharashtra</td>\n",
       "      <td>NaN</td>\n",
       "      <td>NaN</td>\n",
       "      <td>NaN</td>\n",
       "    </tr>\n",
       "    <tr>\n",
       "      <th>26536</th>\n",
       "      <td>9195</td>\n",
       "      <td>#6057</td>\n",
       "      <td>jabstome@gmail.com</td>\n",
       "      <td>pending</td>\n",
       "      <td>NaN</td>\n",
       "      <td>unfulfilled</td>\n",
       "      <td>NaN</td>\n",
       "      <td>yes</td>\n",
       "      <td>INR</td>\n",
       "      <td>694.00</td>\n",
       "      <td>...</td>\n",
       "      <td>NaN</td>\n",
       "      <td>NaN</td>\n",
       "      <td>NaN</td>\n",
       "      <td>NaN</td>\n",
       "      <td>NaN</td>\n",
       "      <td>Maharashtra</td>\n",
       "      <td>Maharashtra</td>\n",
       "      <td>NaN</td>\n",
       "      <td>NaN</td>\n",
       "      <td>NaN</td>\n",
       "    </tr>\n",
       "    <tr>\n",
       "      <th>26537</th>\n",
       "      <td>9196</td>\n",
       "      <td>#6056</td>\n",
       "      <td>jasys.js@gmail.com</td>\n",
       "      <td>pending</td>\n",
       "      <td>NaN</td>\n",
       "      <td>fulfilled</td>\n",
       "      <td>2021-11-01 10:17:11 +0530</td>\n",
       "      <td>yes</td>\n",
       "      <td>INR</td>\n",
       "      <td>195.00</td>\n",
       "      <td>...</td>\n",
       "      <td>NaN</td>\n",
       "      <td>NaN</td>\n",
       "      <td>NaN</td>\n",
       "      <td>NaN</td>\n",
       "      <td>NaN</td>\n",
       "      <td>Meghalaya</td>\n",
       "      <td>Meghalaya</td>\n",
       "      <td>NaN</td>\n",
       "      <td>NaN</td>\n",
       "      <td>NaN</td>\n",
       "    </tr>\n",
       "  </tbody>\n",
       "</table>\n",
       "<p>26538 rows × 75 columns</p>\n",
       "</div>"
      ],
      "text/plain": [
       "       Unnamed: 0    Name                      Email Financial Status  \\\n",
       "0               0  #29914      pankajgavri@gmail.com             paid   \n",
       "1               1  #29913    aishpawar9428@gmail.com          pending   \n",
       "2               2  #29912      zuberali983@gmail.com             paid   \n",
       "3               3  #29911      zuberali983@gmail.com          pending   \n",
       "4               4  #29910    dr.ajaychauhan@yahoo.in          pending   \n",
       "...           ...     ...                        ...              ...   \n",
       "26533        9192   #6060  tiainla.tiainla@gmail.com          pending   \n",
       "26534        9193   #6059   anmolkiran1512@gmail.com          pending   \n",
       "26535        9194   #6058         jabstome@gmail.com             paid   \n",
       "26536        9195   #6057         jabstome@gmail.com          pending   \n",
       "26537        9196   #6056         jasys.js@gmail.com          pending   \n",
       "\n",
       "                         Paid at Fulfillment Status  \\\n",
       "0      2022-04-28 23:57:34 +0530          fulfilled   \n",
       "1                            NaN          fulfilled   \n",
       "2      2022-04-28 23:25:11 +0530          fulfilled   \n",
       "3                            NaN          fulfilled   \n",
       "4                            NaN          fulfilled   \n",
       "...                          ...                ...   \n",
       "26533                        NaN          fulfilled   \n",
       "26534                        NaN        unfulfilled   \n",
       "26535  2021-11-01 02:00:23 +0530          fulfilled   \n",
       "26536                        NaN        unfulfilled   \n",
       "26537                        NaN          fulfilled   \n",
       "\n",
       "                    Fulfilled at Accepts Marketing Currency  Subtotal  ...  \\\n",
       "0      2022-04-29 11:31:50 +0530                no      INR    719.10  ...   \n",
       "1      2022-04-29 11:27:54 +0530               yes      INR   1399.00  ...   \n",
       "2      2022-04-29 11:31:50 +0530               yes      INR    629.10  ...   \n",
       "3      2022-04-29 11:31:50 +0530               yes      INR    664.05  ...   \n",
       "4      2022-04-29 11:31:50 +0530               yes      INR    599.00  ...   \n",
       "...                          ...               ...      ...       ...  ...   \n",
       "26533  2021-11-01 10:18:11 +0530               yes      INR    598.00  ...   \n",
       "26534                        NaN               yes      INR    404.00  ...   \n",
       "26535  2021-11-01 10:17:11 +0530                no      INR    644.00  ...   \n",
       "26536                        NaN               yes      INR    694.00  ...   \n",
       "26537  2021-11-01 10:17:11 +0530               yes      INR    195.00  ...   \n",
       "\n",
       "       Tax 5 Name  Tax 5 Value  Phone Receipt Number  Duties  \\\n",
       "0             NaN          NaN    NaN            NaN     NaN   \n",
       "1             NaN          NaN    NaN            NaN     NaN   \n",
       "2             NaN          NaN    NaN            NaN     NaN   \n",
       "3             NaN          NaN    NaN            NaN     NaN   \n",
       "4             NaN          NaN    NaN            NaN     NaN   \n",
       "...           ...          ...    ...            ...     ...   \n",
       "26533         NaN          NaN    NaN            NaN     NaN   \n",
       "26534         NaN          NaN    NaN            NaN     NaN   \n",
       "26535         NaN          NaN    NaN            NaN     NaN   \n",
       "26536         NaN          NaN    NaN            NaN     NaN   \n",
       "26537         NaN          NaN    NaN            NaN     NaN   \n",
       "\n",
       "      Billing Province Name Shipping Province Name  Payment ID  \\\n",
       "0                   Haryana                Haryana         NaN   \n",
       "1               Maharashtra            Maharashtra         NaN   \n",
       "2            Madhya Pradesh         Madhya Pradesh         NaN   \n",
       "3            Madhya Pradesh         Madhya Pradesh         NaN   \n",
       "4                   Gujarat                Gujarat         NaN   \n",
       "...                     ...                    ...         ...   \n",
       "26533                 Assam                  Assam         NaN   \n",
       "26534             Rajasthan              Rajasthan         NaN   \n",
       "26535           Maharashtra            Maharashtra         NaN   \n",
       "26536           Maharashtra            Maharashtra         NaN   \n",
       "26537             Meghalaya              Meghalaya         NaN   \n",
       "\n",
       "      Payment Terms Name  Next Payment Due At  \n",
       "0                    NaN                  NaN  \n",
       "1                    NaN                  NaN  \n",
       "2                    NaN                  NaN  \n",
       "3                    NaN                  NaN  \n",
       "4                    NaN                  NaN  \n",
       "...                  ...                  ...  \n",
       "26533                NaN                  NaN  \n",
       "26534                NaN                  NaN  \n",
       "26535                NaN                  NaN  \n",
       "26536                NaN                  NaN  \n",
       "26537                NaN                  NaN  \n",
       "\n",
       "[26538 rows x 75 columns]"
      ]
     },
     "execution_count": 95,
     "metadata": {},
     "output_type": "execute_result"
    }
   ],
   "source": [
    "df"
   ]
  },
  {
   "cell_type": "code",
   "execution_count": 96,
   "metadata": {},
   "outputs": [
    {
     "data": {
      "text/plain": [
       "Index(['Unnamed: 0', 'Name', 'Email', 'Financial Status', 'Paid at',\n",
       "       'Fulfillment Status', 'Fulfilled at', 'Accepts Marketing', 'Currency',\n",
       "       'Subtotal', 'Shipping', 'Taxes', 'Total', 'Discount Code',\n",
       "       'Discount Amount', 'Shipping Method', 'Created at', 'Lineitem quantity',\n",
       "       'Lineitem name', 'Lineitem price', 'Lineitem compare at price',\n",
       "       'Lineitem sku', 'Lineitem requires shipping', 'Lineitem taxable',\n",
       "       'Lineitem fulfillment status', 'Billing Name', 'Billing Street',\n",
       "       'Billing Address1', 'Billing Address2', 'Billing Company',\n",
       "       'Billing City', 'Billing Zip', 'Billing Province', 'Billing Country',\n",
       "       'Billing Phone', 'Shipping Name', 'Shipping Street',\n",
       "       'Shipping Address1', 'Shipping Address2', 'Shipping Company',\n",
       "       'Shipping City', 'Shipping Zip', 'Shipping Province',\n",
       "       'Shipping Country', 'Shipping Phone', 'Notes', 'Note Attributes',\n",
       "       'Cancelled at', 'Payment Method', 'Payment Reference',\n",
       "       'Refunded Amount', 'Vendor', 'Id', 'Tags', 'Risk Level', 'Source',\n",
       "       'Lineitem discount', 'Tax 1 Name', 'Tax 1 Value', 'Tax 2 Name',\n",
       "       'Tax 2 Value', 'Tax 3 Name', 'Tax 3 Value', 'Tax 4 Name', 'Tax 4 Value',\n",
       "       'Tax 5 Name', 'Tax 5 Value', 'Phone', 'Receipt Number', 'Duties',\n",
       "       'Billing Province Name', 'Shipping Province Name', 'Payment ID',\n",
       "       'Payment Terms Name', 'Next Payment Due At'],\n",
       "      dtype='object')"
      ]
     },
     "execution_count": 96,
     "metadata": {},
     "output_type": "execute_result"
    }
   ],
   "source": [
    "df.columns"
   ]
  },
  {
   "cell_type": "code",
   "execution_count": 97,
   "metadata": {},
   "outputs": [
    {
     "name": "stdout",
     "output_type": "stream",
     "text": [
      "neuherbs Ashwagandha 1000 Plus Tablets - Pack of 1 (60 Tablets)\n",
      "Neuherbs Quinoa Seeds - 1 KG\n",
      "Neuherbs Hair Skin Vitamins For Stronger Hair, Flawless Skin & Firm Nails - Pack of 2 (60 Capsules)\n",
      "Apple Cider Vinegar (Filtered) – 350ml - 350 ML\n",
      "neuherbs Flax Seeds - 400 GM\n",
      "Neuherbs Omega Instant Oats - 400 GM\n",
      "Neuherbs Daily Essentials Wellness Combo\n",
      "Neuherbs Hair - Skin Vitamins - Pack of 2 (60 Capsules)\n",
      "neuherbs Daily Strength & Immunity Combo\n",
      "Neuherbs Immunity & Stamina Booster\n",
      "Himalayan Giloy Mulethi Juice - Pack of 1 (1 Ltr.)\n",
      "Neuherbs Healthy Seeds Mix\n",
      "Neuherbs Triple Immune C Tablets - 60 Tablets\n",
      "Neuherbs Green Coffee Beans for Weight Loss - 1.5 KG\n",
      "Neuherbs Amla Juice - Pack of 1 (1 Ltr.)\n",
      "Neuherbs Sunflower Seeds - 200 GM\n",
      "Neuherbs Hair Skin Vitamins For Stronger Hair, Flawless Skin & Firm Nails - Pack of 1 (60 Capsules)\n",
      "Neuherbs Sunflower Seeds - 1 KG\n",
      "neuherbs Organic Flax Seeds (400g), Chia Seeds (200g), & Pumpkin Seeds (200g) Combo for Improved Bone & Heart Health\n",
      "Neuherbs Rolled Oats - 400 GM\n",
      "neuherbs Daily Probiotics With Prebiotic - Pack of 1 (60 Capsules)\n",
      "Neuherbs Milk Thistle (Detox Formula) - Pack of 1 (60 Capsules)\n",
      "Neuherbs Ashwagandha 1000 Plus - Pack of 1 (60 Tablets)\n",
      "Natural Peanut Butter & Classic Peanut Butter\n",
      "neuherbs Plastic Pills Organizer Water Bottle - 600ml\n",
      "neuherbs Omega Instant Oats - 1 KG\n",
      "T7 Test-On Testosterone Booster - Pack of 1 (60 Capsules)\n",
      "neuherbs Green Coffee Beans for Weight Loss - 1.5 KG\n",
      "Watermelon Seeds & Pumpkin Seeds\n",
      "Neuherbs Green Coffee Beans for Weight Loss - 200 GM\n",
      "Apple Cider Vinegar with Mother (Unfiltered) - 350 ML\n",
      "Neuherbs Skin Collagen Booster - Pack of 2 (210 GM)\n",
      "neuherbs Deep Sea Fish Oil - 2500 MG - Pack of 1 (60 Softgel)\n",
      "neuherbs Pumpkin Seeds - 1 KG\n",
      "Neuherbs Stainless Steel Vacuum Coffee Mug 510 ML Black\n",
      "neuherbs Strength Builder Combo\n",
      "neuherbs Flax Seeds - 1 KG\n",
      "Neuherbs Chia Seeds - 200 GM\n",
      "Neuherbs Heart Care & Stress Relief Combo\n",
      "neuherbs Heart Care & Stress Relief Combo\n",
      "neuherbs Organic Apple Cider Vinegar with Mother - Pack of 2 (500 ML)\n",
      "Neuherbs Chia & Flax Seeds Combo\n",
      "neuherbs Deep Sea Fish Oil - 2500 MG - Pack of 2 (60 Softgel)\n",
      "neuherbs Omega Peanut Butter Classic - 400 GM\n",
      "Neuherbs Skin Collagen Booster - Pack of 1 (210 GM)\n",
      "Green Coffee Beans Powder - 200 GM\n",
      "neuherbs Watermelon Seeds - 400 GM\n",
      "neuherbs Quinoa Seeds - 400 GM\n",
      "Neuherbs Flax Seeds - 1 KG\n",
      "Aloe Vera Juice - Pack of 1 (1 Ltr.)\n",
      "Neuherbs Super Food Mix - 200 GM\n",
      "Neuherbs Dark Chocolate Peanut Butter - 400 GM\n",
      "neuherbs Chia Seeds - 200 GM\n",
      "Neuherbs Vitamin E Plus - 30 N\n",
      "Aloe Vera Juice - Pack of 2 (1 Ltr.)\n",
      "neuherbs Plant-Based Hair Biotin - Pack of 1 (125 GM)\n",
      "Neuherbs Pumpkin Seeds - 200 GM\n",
      "Strength Booster (Deep Sea Fish Oil & True Vitamin)\n",
      "Neuherbs Hair Skin Vitamins - Pack of 1 (60 Capsules)\n",
      "Neuherbs True Vitamin (Multivitamin) - Pack of 2 (60 Tablets)\n",
      "Neuherbs Ashwagandha 1000 Plus Tablets - Pack of 2 (60 Tablets)\n",
      "Neuherbs Instant Oats - 1 KG\n",
      "neuherbs Skin Collagen Booster & Hair Biotin Combo\n",
      "neuherbs Quinoa Seeds - 1 KG\n",
      "Neuherbs Green Coffee Beans - 1.5 KG\n",
      "Neuherbs True Vitamin (Multivitamin) - Pack of 1 (60 Tablets)\n",
      "Neuherbs Ashwagandha 1000 Plus Tablets - Pack of 1 (60 Tablets)\n",
      "Neuherbs Green Coffee Beans for Weight Loss - 400 GM\n",
      "Neuherbs Omega Steel-Cut Oats - 1 KG\n",
      "neuherbs Green Coffee Beans for Weight Loss - 400 GM\n",
      "Stress Buster (Deep Sea Fish Oil & Ashwagandha)\n",
      "neuherbs Amla Juice - Pack of 1 (1 Ltr.)\n",
      "Neuherbs Omega Rolled Oats - 1 Kg\n",
      "neuherbs Ashwagandha 1000 Plus Tablets - Pack of 2 (60 Tablets)\n",
      "Neuherbs Watermelon Seeds - 400 GM\n",
      "Neuherbs Plant-Based Hair Biotin - Pack of 1 (125 GM)\n",
      "neuherbs Sunflower Seeds - 1 KG\n",
      "Triple Haldi Drops\n",
      "Neuherbs Triple Immune C Tablets (Immunity Booster) - 60 Tablets\n",
      "Neuherbs Deep Sea Fish Oil & Daily Probiotics Combo\n",
      "neuherbs Hair Skin Vitamins - Pack of 2 (60 Capsules)\n",
      "T7 Test-On Ayurveda Muscle Booster For Men - Pack of 1 (60 Capsules)\n",
      "neuherbs Anti-Aging Combo\n",
      "neuherbs Protein Mix - 200 GM\n",
      "Neuherbs Instant Green Coffee Premix - 15 Sachets\n",
      "Neuherbs Instant Green Coffee Premix - 30 Sachets\n",
      "neuherbs Milk Thistle (Detox Formula) - Pack of 1 (60 Capsules)\n",
      "neuherbs Vitamin E Plus - Pack of 2 (30 Capsules)\n",
      "Ayurvedic Immunity Support\n",
      "neuherbs Omega Peanut Butter All Natural - 400 GM\n",
      "Neuherbs Hair Biotin - Pack of 1 (125 GM)\n",
      "neuherbs Plant-Based Hair Biotin - Pack of 2 (125 GM)\n",
      "neuherbs Plant-Based Skin Collagen - Pack of 2 (210 GM)\n",
      "Neuherbs Green Coffee Beans - 400 GM\n",
      "Wild Tulsi Drops\n",
      "neuherbs Vitamin E Plus - Pack of 1 (30 Capsules)\n",
      "Neuherbs Omega Rolled Oats - 400 GM\n",
      "neuherbs Deep Sea Fish Oil & Daily Probiotics Combo\n",
      "Neuherbs Hair & Skin Vitamin - Pack of 1 (60 Capsules)\n",
      "neuherbs Daily Essentials Wellness Combo\n",
      "neuherbs Skin Collagen Booster - Pack of 1 (210 GM)\n",
      "neuherbs Hair Growth and Beauty Combo\n",
      "Neuherbs Flax Seeds - 400 GM\n",
      "Neuherbs Antioxidant Mix - 200 GM\n",
      "neuherbs Green Coffee Cup 180 ML\n",
      "Neuherbs Hair - Skin Vitamins - Pack of 1 (60 Capsules)\n",
      "neuherbs Omega Muesli - 400 GM\n",
      "neuherbs Omega Instant Oats - 400 GM\n",
      "Neuherbs Natural Peanut Butter - 400 GM\n",
      "Neuherbs Plastic Pills Organizer Water Bottle - 600ml\n",
      "Weight & Beauty Nourishment Combo\n",
      "neuherbs Hair Skin Vitamins - Pack of 1 (60 Capsules)\n",
      "Neuherbs Flax Seeds & Chia Seeds Combo\n",
      "Apple Cider Vinegar with Mother Unfiltered - 350 ML\n",
      "Neuherbs Tulsi Giloy Tablets (Immunity Booster)\n",
      "neuherbs Plant-Based Skin Collagen - Pack of 1 (210 GM)\n",
      "Neuherbs Omega Muesli - 400 GM\n",
      "neuherbs Omega Rolled Oats - 1 Kg\n",
      "Neuherbs Skin Collagen Booster & Hair Biotin Combo\n",
      "Neuherbs Hair Biotin - Pack of 2 (125 GM)\n",
      "neuherbs Instant Oats - 1 KG\n",
      "neuherbs Instant Green Coffee Premix - 15 Sachets\n",
      "Sunflowers Seeds & Pumpkin Seeds\n",
      "neuherbs Stainless Steel Vacuum Coffee Mug 510 ML Black\n",
      "neuherbs Instant Green Coffee Premix - 30 Sachets\n",
      "Neuherbs Omega Steel-Cut Oats - 400 GM\n",
      "Neuherbs Ashwagandha 1000 Plus - Pack of 2 (60 Tablets)\n",
      "Neuherbs Chia Seeds - 1 KG\n",
      "neuherbs Omega Peanut Butter Dark Chocolate - 400 GM\n",
      "neuherbs Daily Probiotics With Prebiotic - Pack of 2 (60 Capsules)\n",
      "neuherbs Super Food Mix - 200 GM\n",
      "Neuherbs Omega Peanut Butter All Natural - 400 GM\n",
      "neuherbs Flax Seeds & Chia Seeds Combo\n",
      "Daily Probiotics & Deep Sea Fish Oil\n",
      "neuherbs Skin Collagen Booster - Pack of 2 (210 GM)\n",
      "Neuherbs White Cotton T-shirt - XL\n",
      "Neuherbs Green Coffee Beans - 200 GM\n",
      "Neuherbs Super Seeds Mix Healthy 3 in 1 Mix of Pumpkin & Sunflower & Flax seeds\n",
      "Green Coffee Beans Powder - 1.2 KG\n",
      "Daily Probiotics With Prebiotic - Pack of 1 (60 Capsules)\n",
      "neuherbs Complete Wellness Combo\n",
      "neuherbs Pumpkin Seeds - 200 GM\n",
      "Organic Apple Cider Vinegar with Mother - Pack of 1 (500 ML)\n",
      "Neuherbs Deep Sea Fish Oil - 2500 MG - Pack of 1 (60 Softgel)\n",
      "Stress Buster (Fish Oil & Ashwagandha)\n",
      "Neuherbs Organic Flax Seeds (400g) + Chia Seeds (200g) + Pumpkin Seeds (200g) Combo for Improved Bone Health\n",
      "neuherbs Antioxidant Mix - 200 GM\n",
      "neuherbs Muscle Builder Combo\n",
      "neuherbs Triple Immune C Tablets (Immunity Booster) - 60 Tablets\n",
      "Organic Apple Cider Vinegar with Mother - Pack of 2 (500 ML)\n",
      "Neuherbs Omega Peanut Butter Dark Chocolate - 400 GM\n",
      "Apple Cider Vinegar With Mother & Honey - 350 ML\n",
      "neuherbs Organic Apple Cider Vinegar with Mother - Pack of 1 (500 ML)\n",
      "Neuherbs Quinoa Seeds - 400 GM\n",
      "Neuherbs All Natural Peanut Butter - 400 GM\n",
      "neuherbs True Vitamin (Multivitamin) - Pack of 1 (60 Tablets)\n",
      "neuherbs Vitamin E Plus - 30 N\n",
      "neuherbs Healthy Seeds Mix - 200 GM\n",
      "Neuherbs Immunity Kawach\n",
      "Flax, Chia Seeds, Pumpkin Seeds & Sunflower Seeds\n",
      "Neuherbs Complete Wellness Combo\n",
      "Apple Cider Vinegar with Ginger, Garlic, Lemon & Honey - 350 ML\n",
      "Certified Organic Apple Cider Vinegar With Mother (Unfiltered) - 350 ML\n",
      "Neuherbs Hair Skin Vitamins - Pack of 2 (60 Capsules)\n",
      "Neuherbs Green Coffee Cup 180 ML\n",
      "T7 Test-On Ayurveda Muscle Booster - Pack of 1 (60 Capsules)\n",
      "Daily Probiotics Supplement - Pack of 1 (60 Capsules)\n",
      "Neuherbs Deep Sea Fish Oil - 2500 MG - Pack of 2 (60 Softgel)\n",
      "Daily Probiotics Supplement - Pack of 2 (60 Capsules)\n",
      "Neuherbs Omega Peanut Butter Classic - 400 GM\n",
      "Neuherbs Super Seeds Mix, A Healthy 3-in -1 Mix of Pumpkin, Sunflower & Flax seeds\n",
      "Neuherbs Healthy Seeds Mix - 200 GM\n",
      "T7 Test-On Testosterone Booster for Men - Pack of 1 (60 Capsules)\n",
      "Neuherbs Classic Peanut Butter - 400 GM\n",
      "Neuherbs Protein Mix - 200 GM\n",
      "neuherbs True Vitamin (Multivitamin) - Pack of 2 (60 Tablets)\n",
      "neuherbs Sunflower Seeds - 200 GM\n",
      "Neuherbs Pumpkin Seeds - 1 KG\n",
      "neuherbs Green Coffee Beans for Weight Loss - 200 GM\n",
      "Apple Cider Vinegar (Filtered) - 350ml - 350 ML\n",
      "Daily Probiotics With Prebiotic - Pack of 2 (60 Capsules)\n",
      "neuherbs White Cotton T-shirt - M\n",
      "Green Coffee Beans Powder - 400 GM\n",
      "Neuherbs Plant-Based Hair Biotin - Pack of 2 (125 GM)\n",
      "neuherbs Omega Steel-Cut Oats - 400 GM\n",
      "Strength Booster (Fish Oil & True Vitamin)\n",
      "Neuherbs Hair & Skin Vitamin - Pack of 2 (60 Capsules)\n",
      "neuherbs Omega Steel-Cut Oats - 1 KG\n",
      "neuherbs Omega Rolled Oats - 400 GM\n",
      "T7 Test-On Ayurveda Muscle Booster For Men - Pack of 2 (60 Capsules)\n",
      "neuherbs Tulsi Giloy Tablets (Immunity Booster)\n",
      "neuherbs Chia Seeds - 1 KG\n",
      "neuherbs Super Seeds Mix, A Healthy 3-in -1 Mix of Pumpkin, Sunflower & Flax seeds\n",
      "Neuherbs Organic Flax Seeds (400g), Chia Seeds (200g), & Pumpkin Seeds (200g) Combo for Improved Bone & Heart Health\n",
      "neuherbs Hair & Skin Complete Beauty Combo\n",
      "195\n"
     ]
    }
   ],
   "source": [
    "k = 0\n",
    "for i in set(list(df[\"Lineitem name\"])):\n",
    "    print(i)\n",
    "    k+=1\n",
    "print(k)"
   ]
  },
  {
   "cell_type": "code",
   "execution_count": 98,
   "metadata": {},
   "outputs": [],
   "source": [
    "mainlist = set(list(df[\"Lineitem name\"]))\n",
    "count = 0\n",
    "jj = []"
   ]
  },
  {
   "cell_type": "code",
   "execution_count": 99,
   "metadata": {},
   "outputs": [
    {
     "name": "stdout",
     "output_type": "stream",
     "text": [
      "neuherbs Ashwagandha 1000 Plus Tablets - Pack of 1 (60 Tablets)\n",
      "Neuherbs Ashwagandha 1000 Plus - Pack of 1 (60 Tablets)\n",
      "Neuherbs Ashwagandha 1000 Plus Tablets - Pack of 2 (60 Tablets)\n",
      "Neuherbs Ashwagandha 1000 Plus Tablets - Pack of 1 (60 Tablets)\n",
      "neuherbs Ashwagandha 1000 Plus Tablets - Pack of 2 (60 Tablets)\n",
      "Neuherbs Ashwagandha 1000 Plus - Pack of 2 (60 Tablets)\n"
     ]
    }
   ],
   "source": [
    "for i in mainlist:\n",
    "    if \"Ashwagandha 1000 Plus\" in i:\n",
    "        count+=1\n",
    "        jj.append(i)\n",
    "        print(i)"
   ]
  },
  {
   "cell_type": "code",
   "execution_count": 100,
   "metadata": {},
   "outputs": [
    {
     "name": "stdout",
     "output_type": "stream",
     "text": [
      "Neuherbs Quinoa Seeds - 1 KG\n",
      "neuherbs Quinoa Seeds - 400 GM\n",
      "neuherbs Quinoa Seeds - 1 KG\n",
      "Neuherbs Quinoa Seeds - 400 GM\n"
     ]
    }
   ],
   "source": [
    "for i in mainlist:\n",
    "    if \"Quinoa Seeds\" in i:\n",
    "        count+=1\n",
    "        jj.append(i)\n",
    "        print(i)"
   ]
  },
  {
   "cell_type": "code",
   "execution_count": 101,
   "metadata": {},
   "outputs": [
    {
     "name": "stdout",
     "output_type": "stream",
     "text": [
      "Neuherbs Hair Skin Vitamins For Stronger Hair, Flawless Skin & Firm Nails - Pack of 2 (60 Capsules)\n",
      "Neuherbs Hair Skin Vitamins For Stronger Hair, Flawless Skin & Firm Nails - Pack of 1 (60 Capsules)\n",
      "Neuherbs Hair Skin Vitamins - Pack of 1 (60 Capsules)\n",
      "neuherbs Hair Skin Vitamins - Pack of 2 (60 Capsules)\n",
      "neuherbs Hair Skin Vitamins - Pack of 1 (60 Capsules)\n",
      "Neuherbs Hair Skin Vitamins - Pack of 2 (60 Capsules)\n"
     ]
    }
   ],
   "source": [
    "for i in mainlist:\n",
    "    if \"Hair Skin Vitamins\" in i:\n",
    "        count+=1\n",
    "        jj.append(i)\n",
    "        print(i)"
   ]
  },
  {
   "cell_type": "code",
   "execution_count": 102,
   "metadata": {},
   "outputs": [
    {
     "name": "stdout",
     "output_type": "stream",
     "text": [
      "Apple Cider Vinegar (Filtered) – 350ml - 350 ML\n",
      "Apple Cider Vinegar with Mother (Unfiltered) - 350 ML\n",
      "neuherbs Organic Apple Cider Vinegar with Mother - Pack of 2 (500 ML)\n",
      "Apple Cider Vinegar with Mother Unfiltered - 350 ML\n",
      "Organic Apple Cider Vinegar with Mother - Pack of 1 (500 ML)\n",
      "Organic Apple Cider Vinegar with Mother - Pack of 2 (500 ML)\n",
      "Apple Cider Vinegar With Mother & Honey - 350 ML\n",
      "neuherbs Organic Apple Cider Vinegar with Mother - Pack of 1 (500 ML)\n",
      "Apple Cider Vinegar with Ginger, Garlic, Lemon & Honey - 350 ML\n",
      "Certified Organic Apple Cider Vinegar With Mother (Unfiltered) - 350 ML\n",
      "Apple Cider Vinegar (Filtered) - 350ml - 350 ML\n"
     ]
    }
   ],
   "source": [
    "for i in mainlist:\n",
    "    if \"Apple Cider Vinegar\" in i:\n",
    "        count+=1\n",
    "        jj.append(i)\n",
    "        print(i)"
   ]
  },
  {
   "cell_type": "code",
   "execution_count": 103,
   "metadata": {},
   "outputs": [
    {
     "name": "stdout",
     "output_type": "stream",
     "text": [
      "neuherbs Flax Seeds - 400 GM\n",
      "neuherbs Organic Flax Seeds (400g), Chia Seeds (200g), & Pumpkin Seeds (200g) Combo for Improved Bone & Heart Health\n",
      "neuherbs Flax Seeds - 1 KG\n",
      "Neuherbs Chia & Flax Seeds Combo\n",
      "Neuherbs Flax Seeds - 1 KG\n",
      "Neuherbs Flax Seeds - 400 GM\n",
      "Neuherbs Flax Seeds & Chia Seeds Combo\n",
      "neuherbs Flax Seeds & Chia Seeds Combo\n",
      "Neuherbs Organic Flax Seeds (400g) + Chia Seeds (200g) + Pumpkin Seeds (200g) Combo for Improved Bone Health\n",
      "Neuherbs Organic Flax Seeds (400g), Chia Seeds (200g), & Pumpkin Seeds (200g) Combo for Improved Bone & Heart Health\n"
     ]
    }
   ],
   "source": [
    "for i in mainlist:\n",
    "    if \"Flax Seeds\" in i:\n",
    "        count+=1\n",
    "        jj.append(i)\n",
    "        print(i)"
   ]
  },
  {
   "cell_type": "code",
   "execution_count": 104,
   "metadata": {},
   "outputs": [
    {
     "name": "stdout",
     "output_type": "stream",
     "text": [
      "Neuherbs Omega Instant Oats - 400 GM\n",
      "neuherbs Omega Instant Oats - 1 KG\n",
      "neuherbs Omega Instant Oats - 400 GM\n"
     ]
    }
   ],
   "source": [
    "for i in mainlist:\n",
    "    if \"Omega Instant Oats\" in i:\n",
    "        count+=1\n",
    "        jj.append(i)\n",
    "        print(i)"
   ]
  },
  {
   "cell_type": "code",
   "execution_count": 105,
   "metadata": {},
   "outputs": [
    {
     "name": "stdout",
     "output_type": "stream",
     "text": [
      "Neuherbs Daily Essentials Wellness Combo\n",
      "neuherbs Daily Essentials Wellness Combo\n"
     ]
    }
   ],
   "source": [
    "for i in mainlist:\n",
    "    if \"Daily Essentials Wellness\" in i:\n",
    "        count+=1\n",
    "        jj.append(i)\n",
    "        print(i)"
   ]
  },
  {
   "cell_type": "code",
   "execution_count": 106,
   "metadata": {},
   "outputs": [
    {
     "name": "stdout",
     "output_type": "stream",
     "text": [
      "neuherbs Daily Strength & Immunity Combo\n"
     ]
    }
   ],
   "source": [
    "for i in mainlist:\n",
    "    if \"Daily Strength & Immunity\" in i:\n",
    "        count+=1\n",
    "        jj.append(i)\n",
    "        print(i)"
   ]
  },
  {
   "cell_type": "code",
   "execution_count": 107,
   "metadata": {},
   "outputs": [
    {
     "name": "stdout",
     "output_type": "stream",
     "text": [
      "Himalayan Giloy Mulethi Juice - Pack of 1 (1 Ltr.)\n"
     ]
    }
   ],
   "source": [
    "for i in mainlist:\n",
    "    if \"Giloy Mulethi Juice\" in i:\n",
    "        count+=1\n",
    "        jj.append(i)\n",
    "        print(i)"
   ]
  },
  {
   "cell_type": "code",
   "execution_count": 108,
   "metadata": {},
   "outputs": [
    {
     "name": "stdout",
     "output_type": "stream",
     "text": [
      "Neuherbs Healthy Seeds Mix\n",
      "neuherbs Healthy Seeds Mix - 200 GM\n",
      "Neuherbs Healthy Seeds Mix - 200 GM\n"
     ]
    }
   ],
   "source": [
    "for i in mainlist:\n",
    "    if \"Healthy Seeds Mix\" in i:\n",
    "        count+=1\n",
    "        jj.append(i)\n",
    "        print(i)"
   ]
  },
  {
   "cell_type": "code",
   "execution_count": 109,
   "metadata": {},
   "outputs": [
    {
     "name": "stdout",
     "output_type": "stream",
     "text": [
      "Neuherbs Triple Immune C Tablets - 60 Tablets\n",
      "Neuherbs Triple Immune C Tablets (Immunity Booster) - 60 Tablets\n",
      "neuherbs Triple Immune C Tablets (Immunity Booster) - 60 Tablets\n"
     ]
    }
   ],
   "source": [
    "for i in mainlist:\n",
    "    if \"Triple Immune C Tablets\" in i:\n",
    "        count+=1\n",
    "        jj.append(i)\n",
    "        print(i)"
   ]
  },
  {
   "cell_type": "code",
   "execution_count": 110,
   "metadata": {},
   "outputs": [
    {
     "name": "stdout",
     "output_type": "stream",
     "text": [
      "Neuherbs Green Coffee Beans for Weight Loss - 1.5 KG\n",
      "neuherbs Green Coffee Beans for Weight Loss - 1.5 KG\n",
      "Neuherbs Green Coffee Beans for Weight Loss - 200 GM\n",
      "Green Coffee Beans Powder - 200 GM\n",
      "Neuherbs Green Coffee Beans - 1.5 KG\n",
      "Neuherbs Green Coffee Beans for Weight Loss - 400 GM\n",
      "neuherbs Green Coffee Beans for Weight Loss - 400 GM\n",
      "Neuherbs Green Coffee Beans - 400 GM\n",
      "Neuherbs Green Coffee Beans - 200 GM\n",
      "Green Coffee Beans Powder - 1.2 KG\n",
      "neuherbs Green Coffee Beans for Weight Loss - 200 GM\n",
      "Green Coffee Beans Powder - 400 GM\n"
     ]
    }
   ],
   "source": [
    "for i in mainlist:\n",
    "    if \"Green Coffee Beans\" in i:\n",
    "        count+=1\n",
    "        jj.append(i)\n",
    "        print(i)"
   ]
  },
  {
   "cell_type": "code",
   "execution_count": 111,
   "metadata": {},
   "outputs": [
    {
     "name": "stdout",
     "output_type": "stream",
     "text": [
      "Neuherbs Amla Juice - Pack of 1 (1 Ltr.)\n",
      "neuherbs Amla Juice - Pack of 1 (1 Ltr.)\n"
     ]
    }
   ],
   "source": [
    "for i in mainlist:\n",
    "    if \"Amla Juice\" in i:\n",
    "        count+=1\n",
    "        jj.append(i)\n",
    "        print(i)"
   ]
  },
  {
   "cell_type": "code",
   "execution_count": 112,
   "metadata": {},
   "outputs": [
    {
     "name": "stdout",
     "output_type": "stream",
     "text": [
      "Neuherbs Sunflower Seeds - 200 GM\n",
      "Neuherbs Sunflower Seeds - 1 KG\n",
      "neuherbs Sunflower Seeds - 1 KG\n",
      "Flax, Chia Seeds, Pumpkin Seeds & Sunflower Seeds\n",
      "neuherbs Sunflower Seeds - 200 GM\n"
     ]
    }
   ],
   "source": [
    "for i in mainlist:\n",
    "    if \"Sunflower Seeds\" in i:\n",
    "        count+=1\n",
    "        jj.append(i)\n",
    "        print(i)"
   ]
  },
  {
   "cell_type": "code",
   "execution_count": 113,
   "metadata": {},
   "outputs": [
    {
     "name": "stdout",
     "output_type": "stream",
     "text": [
      "Himalayan Giloy Mulethi Juice - Pack of 1 (1 Ltr.)\n"
     ]
    }
   ],
   "source": [
    "for i in mainlist:\n",
    "    if \"Giloy Mulethi Juice\" in i:\n",
    "        count+=1\n",
    "        jj.append(i)\n",
    "        print(i)"
   ]
  },
  {
   "cell_type": "code",
   "execution_count": 114,
   "metadata": {},
   "outputs": [
    {
     "name": "stdout",
     "output_type": "stream",
     "text": [
      "Neuherbs Rolled Oats - 400 GM\n",
      "Neuherbs Omega Rolled Oats - 1 Kg\n",
      "Neuherbs Omega Rolled Oats - 400 GM\n",
      "neuherbs Omega Rolled Oats - 1 Kg\n",
      "neuherbs Omega Rolled Oats - 400 GM\n"
     ]
    }
   ],
   "source": [
    "for i in mainlist:\n",
    "    if \"Rolled Oats\" in i:\n",
    "        count+=1\n",
    "        print(i)"
   ]
  },
  {
   "cell_type": "code",
   "execution_count": 115,
   "metadata": {},
   "outputs": [
    {
     "name": "stdout",
     "output_type": "stream",
     "text": [
      "neuherbs Daily Probiotics With Prebiotic - Pack of 1 (60 Capsules)\n",
      "neuherbs Daily Probiotics With Prebiotic - Pack of 2 (60 Capsules)\n",
      "Daily Probiotics With Prebiotic - Pack of 1 (60 Capsules)\n",
      "Daily Probiotics With Prebiotic - Pack of 2 (60 Capsules)\n"
     ]
    }
   ],
   "source": [
    "for i in mainlist:\n",
    "    if \"Daily Probiotics With Prebiotic\" in i:\n",
    "        count+=1\n",
    "        print(i)"
   ]
  },
  {
   "cell_type": "code",
   "execution_count": 116,
   "metadata": {},
   "outputs": [
    {
     "name": "stdout",
     "output_type": "stream",
     "text": [
      "Neuherbs Milk Thistle (Detox Formula) - Pack of 1 (60 Capsules)\n",
      "neuherbs Milk Thistle (Detox Formula) - Pack of 1 (60 Capsules)\n"
     ]
    }
   ],
   "source": [
    "for i in mainlist:\n",
    "    if \"Milk Thistle\" in i:\n",
    "        count+=1\n",
    "        print(i)"
   ]
  },
  {
   "cell_type": "code",
   "execution_count": 117,
   "metadata": {},
   "outputs": [
    {
     "name": "stdout",
     "output_type": "stream",
     "text": [
      "Natural Peanut Butter & Classic Peanut Butter\n",
      "neuherbs Omega Peanut Butter Classic - 400 GM\n",
      "Neuherbs Dark Chocolate Peanut Butter - 400 GM\n",
      "neuherbs Omega Peanut Butter All Natural - 400 GM\n",
      "Neuherbs Natural Peanut Butter - 400 GM\n",
      "neuherbs Omega Peanut Butter Dark Chocolate - 400 GM\n",
      "Neuherbs Omega Peanut Butter All Natural - 400 GM\n",
      "Neuherbs Omega Peanut Butter Dark Chocolate - 400 GM\n",
      "Neuherbs All Natural Peanut Butter - 400 GM\n",
      "Neuherbs Omega Peanut Butter Classic - 400 GM\n",
      "Neuherbs Classic Peanut Butter - 400 GM\n"
     ]
    }
   ],
   "source": [
    "for i in mainlist:\n",
    "    if \"Peanut Butter\" in i:\n",
    "        count+=1\n",
    "        print(i)"
   ]
  },
  {
   "cell_type": "code",
   "execution_count": 118,
   "metadata": {},
   "outputs": [
    {
     "name": "stdout",
     "output_type": "stream",
     "text": [
      "neuherbs Plastic Pills Organizer Water Bottle - 600ml\n",
      "Neuherbs Plastic Pills Organizer Water Bottle - 600ml\n"
     ]
    }
   ],
   "source": [
    "for i in mainlist:\n",
    "    if \"Plastic Pills\" in i:\n",
    "        count+=1\n",
    "        print(i)"
   ]
  },
  {
   "cell_type": "code",
   "execution_count": 119,
   "metadata": {},
   "outputs": [
    {
     "name": "stdout",
     "output_type": "stream",
     "text": [
      "Neuherbs Omega Instant Oats - 400 GM\n",
      "neuherbs Omega Instant Oats - 1 KG\n",
      "neuherbs Omega Instant Oats - 400 GM\n"
     ]
    }
   ],
   "source": [
    "for i in mainlist:\n",
    "    if \"Omega Instant Oats\" in i:\n",
    "        count+=1\n",
    "        print(i)"
   ]
  },
  {
   "cell_type": "code",
   "execution_count": 120,
   "metadata": {},
   "outputs": [
    {
     "name": "stdout",
     "output_type": "stream",
     "text": [
      "T7 Test-On Testosterone Booster - Pack of 1 (60 Capsules)\n",
      "T7 Test-On Testosterone Booster for Men - Pack of 1 (60 Capsules)\n"
     ]
    }
   ],
   "source": [
    "for i in mainlist:\n",
    "    if \"Testosterone Booster\" in i:\n",
    "        count+=1\n",
    "        print(i)"
   ]
  },
  {
   "cell_type": "code",
   "execution_count": 123,
   "metadata": {},
   "outputs": [
    {
     "name": "stdout",
     "output_type": "stream",
     "text": [
      "Neuherbs Super Seeds Mix Healthy 3 in 1 Mix of Pumpkin & Sunflower & Flax seeds\n",
      "Neuherbs Super Seeds Mix, A Healthy 3-in -1 Mix of Pumpkin, Sunflower & Flax seeds\n",
      "neuherbs Super Seeds Mix, A Healthy 3-in -1 Mix of Pumpkin, Sunflower & Flax seeds\n"
     ]
    }
   ],
   "source": [
    "for i in mainlist:\n",
    "    if \"seeds\" in i:\n",
    "        count+=1\n",
    "        print(i)"
   ]
  },
  {
   "cell_type": "code",
   "execution_count": 124,
   "metadata": {},
   "outputs": [
    {
     "name": "stdout",
     "output_type": "stream",
     "text": [
      "neuherbs Deep Sea Fish Oil - 2500 MG - Pack of 1 (60 Softgel)\n",
      "neuherbs Deep Sea Fish Oil - 2500 MG - Pack of 2 (60 Softgel)\n",
      "Strength Booster (Deep Sea Fish Oil & True Vitamin)\n",
      "Stress Buster (Deep Sea Fish Oil & Ashwagandha)\n",
      "Neuherbs Deep Sea Fish Oil & Daily Probiotics Combo\n",
      "neuherbs Deep Sea Fish Oil & Daily Probiotics Combo\n",
      "Daily Probiotics & Deep Sea Fish Oil\n",
      "Neuherbs Deep Sea Fish Oil - 2500 MG - Pack of 1 (60 Softgel)\n",
      "Stress Buster (Fish Oil & Ashwagandha)\n",
      "Neuherbs Deep Sea Fish Oil - 2500 MG - Pack of 2 (60 Softgel)\n",
      "Strength Booster (Fish Oil & True Vitamin)\n"
     ]
    }
   ],
   "source": [
    "for i in mainlist:\n",
    "    if \"Fish Oil\" in i:\n",
    "        count+=1\n",
    "        print(i)"
   ]
  },
  {
   "cell_type": "code",
   "execution_count": 125,
   "metadata": {},
   "outputs": [
    {
     "name": "stdout",
     "output_type": "stream",
     "text": [
      "neuherbs Organic Flax Seeds (400g), Chia Seeds (200g), & Pumpkin Seeds (200g) Combo for Improved Bone & Heart Health\n",
      "Watermelon Seeds & Pumpkin Seeds\n",
      "neuherbs Pumpkin Seeds - 1 KG\n",
      "Neuherbs Pumpkin Seeds - 200 GM\n",
      "Sunflowers Seeds & Pumpkin Seeds\n",
      "neuherbs Pumpkin Seeds - 200 GM\n",
      "Neuherbs Organic Flax Seeds (400g) + Chia Seeds (200g) + Pumpkin Seeds (200g) Combo for Improved Bone Health\n",
      "Flax, Chia Seeds, Pumpkin Seeds & Sunflower Seeds\n",
      "Neuherbs Pumpkin Seeds - 1 KG\n",
      "Neuherbs Organic Flax Seeds (400g), Chia Seeds (200g), & Pumpkin Seeds (200g) Combo for Improved Bone & Heart Health\n"
     ]
    }
   ],
   "source": [
    "for i in mainlist:\n",
    "    if \"Pumpkin Seeds\" in i:\n",
    "        count+=1\n",
    "        print(i)"
   ]
  },
  {
   "cell_type": "code",
   "execution_count": 126,
   "metadata": {},
   "outputs": [
    {
     "name": "stdout",
     "output_type": "stream",
     "text": [
      "Neuherbs Stainless Steel Vacuum Coffee Mug 510 ML Black\n",
      "neuherbs Stainless Steel Vacuum Coffee Mug 510 ML Black\n"
     ]
    }
   ],
   "source": [
    "for i in mainlist:\n",
    "    if \"Coffee Mug\" in i:\n",
    "        count+=1\n",
    "        print(i)"
   ]
  },
  {
   "cell_type": "code",
   "execution_count": 127,
   "metadata": {},
   "outputs": [
    {
     "name": "stdout",
     "output_type": "stream",
     "text": [
      "neuherbs Strength Builder Combo\n"
     ]
    }
   ],
   "source": [
    "for i in mainlist:\n",
    "    if \"Strength Builder\" in i:\n",
    "        count+=1\n",
    "        print(i)"
   ]
  },
  {
   "cell_type": "code",
   "execution_count": 128,
   "metadata": {},
   "outputs": [
    {
     "name": "stdout",
     "output_type": "stream",
     "text": [
      "neuherbs Organic Flax Seeds (400g), Chia Seeds (200g), & Pumpkin Seeds (200g) Combo for Improved Bone & Heart Health\n",
      "Neuherbs Chia Seeds - 200 GM\n",
      "neuherbs Chia Seeds - 200 GM\n",
      "Neuherbs Flax Seeds & Chia Seeds Combo\n",
      "Neuherbs Chia Seeds - 1 KG\n",
      "neuherbs Flax Seeds & Chia Seeds Combo\n",
      "Neuherbs Organic Flax Seeds (400g) + Chia Seeds (200g) + Pumpkin Seeds (200g) Combo for Improved Bone Health\n",
      "Flax, Chia Seeds, Pumpkin Seeds & Sunflower Seeds\n",
      "neuherbs Chia Seeds - 1 KG\n",
      "Neuherbs Organic Flax Seeds (400g), Chia Seeds (200g), & Pumpkin Seeds (200g) Combo for Improved Bone & Heart Health\n"
     ]
    }
   ],
   "source": [
    "for i in mainlist:\n",
    "    if \"Chia Seeds\" in i:\n",
    "        count+=1\n",
    "        print(i)"
   ]
  },
  {
   "cell_type": "code",
   "execution_count": 129,
   "metadata": {},
   "outputs": [
    {
     "name": "stdout",
     "output_type": "stream",
     "text": [
      "Neuherbs Heart Care & Stress Relief Combo\n",
      "neuherbs Heart Care & Stress Relief Combo\n"
     ]
    }
   ],
   "source": [
    "for i in mainlist:\n",
    "    if \"Stress Relief\" in i:\n",
    "        count+=1\n",
    "        print(i)"
   ]
  },
  {
   "cell_type": "code",
   "execution_count": null,
   "metadata": {},
   "outputs": [],
   "source": [
    "for i in mainlist:\n",
    "    if \"Giloy Mulethi Juice\" in i:\n",
    "        count+=1\n",
    "        print(i)"
   ]
  },
  {
   "cell_type": "code",
   "execution_count": null,
   "metadata": {},
   "outputs": [],
   "source": [
    "for i in mainlist:\n",
    "    if \"Giloy Mulethi Juice\" in i:\n",
    "        count+=1\n",
    "        print(i)"
   ]
  },
  {
   "cell_type": "code",
   "execution_count": null,
   "metadata": {},
   "outputs": [],
   "source": [
    "for i in mainlist:\n",
    "    if \"Giloy Mulethi Juice\" in i:\n",
    "        count+=1\n",
    "        print(i)"
   ]
  },
  {
   "cell_type": "code",
   "execution_count": null,
   "metadata": {},
   "outputs": [],
   "source": [
    "for i in mainlist:\n",
    "    if \"Giloy Mulethi Juice\" in i:\n",
    "        count+=1\n",
    "        print(i)"
   ]
  }
 ],
 "metadata": {
  "kernelspec": {
   "display_name": "Python 3",
   "language": "python",
   "name": "python3"
  },
  "language_info": {
   "codemirror_mode": {
    "name": "ipython",
    "version": 3
   },
   "file_extension": ".py",
   "mimetype": "text/x-python",
   "name": "python",
   "nbconvert_exporter": "python",
   "pygments_lexer": "ipython3",
   "version": "3.8.3"
  }
 },
 "nbformat": 4,
 "nbformat_minor": 4
}

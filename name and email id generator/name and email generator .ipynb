{
 "cells": [
  {
   "cell_type": "code",
   "execution_count": 3,
   "metadata": {},
   "outputs": [],
   "source": [
    "#  if you are firts time here uncomment it and run this peace of code <3\n",
    "\n",
    "# !pip install getindianname \n",
    "# import getindianname as name\n",
    "# import random"
   ]
  },
  {
   "cell_type": "code",
   "execution_count": 4,
   "metadata": {},
   "outputs": [
    {
     "name": "stdout",
     "output_type": "stream",
     "text": [
      "enter the number of name and gmail you want : 1\n",
      "1, Chidaatma Vishwakarma, Chidaatma Vishwakarma42@gmail.com\n"
     ]
    }
   ],
   "source": [
    "n = int(input(\"enter the number of name and gmail you want : \"))\n",
    "for i in range(n):\n",
    "  G_name = name.randname()\n",
    "  print(f\"{i+1}, {G_name}, {G_name}{random.randrange(20, 99)}@gmail.com\")"
   ]
  },
  {
   "cell_type": "code",
   "execution_count": 5,
   "metadata": {},
   "outputs": [],
   "source": [
    "# #Female Name\n",
    "# >>> print(name.female())\n",
    "# Nitya Divedi\n",
    "\n",
    "# #Male Name\n",
    "# >>> print(name.male())\n",
    "# Abhijeet Pandey"
   ]
  },
  {
   "cell_type": "code",
   "execution_count": null,
   "metadata": {},
   "outputs": [],
   "source": []
  }
 ],
 "metadata": {
  "kernelspec": {
   "display_name": "Python 3",
   "language": "python",
   "name": "python3"
  },
  "language_info": {
   "codemirror_mode": {
    "name": "ipython",
    "version": 3
   },
   "file_extension": ".py",
   "mimetype": "text/x-python",
   "name": "python",
   "nbconvert_exporter": "python",
   "pygments_lexer": "ipython3",
   "version": "3.8.3"
  }
 },
 "nbformat": 4,
 "nbformat_minor": 4
}
